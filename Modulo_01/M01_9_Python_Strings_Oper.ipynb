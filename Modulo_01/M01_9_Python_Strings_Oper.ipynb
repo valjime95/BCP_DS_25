{
  "cells": [
    {
      "cell_type": "markdown",
      "metadata": {
        "id": "X_pZb2H8tjSo"
      },
      "source": [
        "# Operaciones con cadenas\n",
        "\n",
        "Objetivos de la lección\n",
        "\n",
        "Comprender las operaciones con cadenas de Python.\n",
        "Aprender a crear subconjuntos y dividir cadenas.\n",
        "Comprender cómo aprovechar los métodos booleanos para las operaciones con cadenas.\n",
        "Aprender a manipular mayúsculas y minúsculas de cadenas con Python.\n",
        "Aprender a eliminar espacios en blanco y reemplazar cadenas por otras cadenas.\n",
        "Aprender algunas expresiones regulares básicas y cómo aplicarlas.\n",
        "\n",
        "Introducción\n",
        "\n",
        "Como analista de datos, se encontrará lidiando con cadenas de texto con regularidad. Las variables categóricas, los documentos y otros datos basados ​​en texto a menudo vienen estructurados de manera inconsistente. Por este motivo, es útil conocer los diferentes métodos para transformar, limpiar y extraer texto. Python viene con varias herramientas para realizar operaciones con cadenas. En esta lección, aprenderemos a usar estas herramientas para trabajar con cadenas.\n",
        "Operaciones con cadenas de Python\n",
        "\n",
        "Hasta ahora en este programa, ha visto algunos ejemplos aquí y allá que involucran operaciones con cadenas en el contexto de otros temas que hemos tratado. En esta sección, cubriremos las operaciones con cadenas de manera más completa para que comprendas bien cómo usarlas.\n",
        "\n",
        "Recuerda de tu trabajo previo con Python que el operador + concatena dos cadenas y que el operador * repite una cadena una cantidad determinada de veces."
      ]
    },
    {
      "cell_type": "code",
      "execution_count": null,
      "metadata": {
        "id": "BacKGt9HtjSr",
        "outputId": "66d00778-491f-4c07-9395-bda34a0c1ece"
      },
      "outputs": [
        {
          "name": "stdout",
          "output_type": "stream",
          "text": [
            "HelloWorld\n"
          ]
        }
      ],
      "source": [
        "print('Hello' + 'World')"
      ]
    },
    {
      "cell_type": "code",
      "execution_count": null,
      "metadata": {
        "id": "aPItIS6ttjSt",
        "outputId": "bf692c88-a197-43f4-bafe-d8fb4480deda"
      },
      "outputs": [
        {
          "name": "stdout",
          "output_type": "stream",
          "text": [
            "HelloHelloHelloHelloHelloHelloHelloHello\n"
          ]
        }
      ],
      "source": [
        "print('Hello' * 8)"
      ]
    },
    {
      "cell_type": "markdown",
      "metadata": {
        "id": "gyIjuCgptjSt"
      },
      "source": [
        "Recuerde que también puede unir cadenas en una lista utilizando un separador designado con el método join."
      ]
    },
    {
      "cell_type": "code",
      "execution_count": null,
      "metadata": {
        "id": "NUmMfpjbtjSt",
        "outputId": "13d38088-7c6e-4325-aa81-a7a9e4115b5e"
      },
      "outputs": [
        {
          "data": {
            "text/plain": [
              "'Happy Puppies'"
            ]
          },
          "execution_count": 3,
          "metadata": {},
          "output_type": "execute_result"
        }
      ],
      "source": [
        "x = 'Happy'\n",
        "y = 'Puppies'\n",
        "z = [x,y]\n",
        "\n",
        "' '.join(z)"
      ]
    },
    {
      "cell_type": "markdown",
      "metadata": {
        "id": "MlxTkU-ftjSu"
      },
      "source": [
        "También cubrimos cómo obtener la longitud de cadenas y cómo crear subconjuntos de ellas mediante indexación."
      ]
    },
    {
      "cell_type": "code",
      "execution_count": null,
      "metadata": {
        "id": "hkTnuadqtjSu",
        "outputId": "9d445996-8047-445b-c109-6e778fef450f"
      },
      "outputs": [
        {
          "data": {
            "text/plain": [
              "10"
            ]
          },
          "execution_count": 4,
          "metadata": {},
          "output_type": "execute_result"
        }
      ],
      "source": [
        "len('automobile')"
      ]
    },
    {
      "cell_type": "code",
      "execution_count": null,
      "metadata": {
        "id": "AyN6hT3xtjSu",
        "outputId": "eccaa3b3-3d4c-42bc-ca2c-e426e9e5f633"
      },
      "outputs": [
        {
          "name": "stdout",
          "output_type": "stream",
          "text": [
            "a\n",
            "o\n",
            "e\n"
          ]
        }
      ],
      "source": [
        "word = 'automobile'\n",
        "\n",
        "print(word[0])\n",
        "print(word[5])\n",
        "print(word[-1])"
      ]
    },
    {
      "cell_type": "markdown",
      "metadata": {
        "id": "dsTtuDd7tjSv"
      },
      "source": [
        "Podemos utilizar el método split para convertir cadenas en listas en función de un separador que designemos (espacios si se deja vacío)."
      ]
    },
    {
      "cell_type": "code",
      "execution_count": null,
      "metadata": {
        "id": "xYxqRYNCtjSv",
        "outputId": "210785c9-ee65-4c38-fc51-a3fc93451eaf"
      },
      "outputs": [
        {
          "name": "stdout",
          "output_type": "stream",
          "text": [
            "['They', 'ate', 'the', 'mystery', 'meat.', 'It', 'tasted', 'like', 'chicken.']\n",
            "['They ate the mystery meat', ' It tasted like chicken', '']\n",
            "['They ate the ', 'ystery ', 'eat. It tasted like chicken.']\n"
          ]
        }
      ],
      "source": [
        "a = 'They ate the mystery meat. It tasted like chicken.'\n",
        "\n",
        "print(a.split())\n",
        "print(a.split('.'))\n",
        "print(a.split('m'))"
      ]
    },
    {
      "cell_type": "markdown",
      "metadata": {
        "id": "nwTUCYeOtjSw"
      },
      "source": [
        "También podemos utilizar métodos booleanos como startswith, endswith e in para verificar si las cadenas comienzan con, terminan con o contienen ciertos caracteres u otras cadenas."
      ]
    },
    {
      "cell_type": "code",
      "execution_count": null,
      "metadata": {
        "id": "qeiLCF71tjSw",
        "outputId": "2485524e-836f-4ec3-8a4f-0ec8eae64983"
      },
      "outputs": [
        {
          "name": "stdout",
          "output_type": "stream",
          "text": [
            "True\n",
            "True\n",
            "False\n"
          ]
        }
      ],
      "source": [
        "b = 'There is no business like show business.'\n",
        "\n",
        "print(b.startswith('T'))\n",
        "print(b.startswith('There'))\n",
        "print(b.startswith('there'))"
      ]
    },
    {
      "cell_type": "code",
      "execution_count": null,
      "metadata": {
        "id": "a9CqjdOxtjSw",
        "outputId": "fa801df5-c9fb-4f42-e184-414e203784c6"
      },
      "outputs": [
        {
          "name": "stdout",
          "output_type": "stream",
          "text": [
            "True\n",
            "True\n",
            "False\n"
          ]
        }
      ],
      "source": [
        "print(b.endswith('.'))\n",
        "print(b.endswith('business.'))\n",
        "print(b.endswith('Business.'))"
      ]
    },
    {
      "cell_type": "code",
      "execution_count": null,
      "metadata": {
        "id": "-e_C89dltjSw",
        "outputId": "75e1c34a-d307-4c80-f30e-f60dde08a842"
      },
      "outputs": [
        {
          "name": "stdout",
          "output_type": "stream",
          "text": [
            "True\n",
            "True\n",
            "False\n"
          ]
        }
      ],
      "source": [
        "print('like' in b)\n",
        "print('business' in b)\n",
        "print('Business' in b)"
      ]
    },
    {
      "cell_type": "markdown",
      "metadata": {
        "id": "Xvc_aAsvtjSx"
      },
      "source": [
        "Tenga en cuenta que los ejemplos anteriores distinguen entre mayúsculas y minúsculas. Hablando de mayúsculas y minúsculas, Python nos proporciona varias formas útiles de cambiar las mayúsculas y minúsculas de las cadenas."
      ]
    },
    {
      "cell_type": "code",
      "execution_count": null,
      "metadata": {
        "id": "wTGLyJu9tjSx",
        "outputId": "59d6be8e-0f02-4a64-c894-3f84a4ebc9b8"
      },
      "outputs": [
        {
          "name": "stdout",
          "output_type": "stream",
          "text": [
            "she had a marvelous assortment of puppets.\n",
            "SHE HAD A MARVELOUS ASSORTMENT OF PUPPETS.\n",
            "She had a marvelous assortment of puppets.\n",
            "She Had A Marvelous Assortment Of Puppets.\n"
          ]
        }
      ],
      "source": [
        "c = 'shE HaD a maRveLoUs aSsoRtmeNt of PUPPETS.'\n",
        "\n",
        "print(c.lower())\n",
        "print(c.upper())\n",
        "print(c.capitalize())\n",
        "print(c.title())"
      ]
    },
    {
      "cell_type": "markdown",
      "metadata": {
        "id": "Oh3BT45QtjSx"
      },
      "source": [
        "También podemos eliminar cualquier espacio en blanco del principio y del final de una cadena utilizando el método strip. Si queremos eliminar el espacio en blanco solo del principio, utilizaremos lstrip. Si queremos eliminar el espacio en blanco solo del final, utilizaremos rstrip."
      ]
    },
    {
      "cell_type": "code",
      "execution_count": null,
      "metadata": {
        "id": "xlFNVtiftjSx",
        "outputId": "c8d81096-042a-4167-9824-937997758739"
      },
      "outputs": [
        {
          "name": "stdout",
          "output_type": "stream",
          "text": [
            "I have a tendency to leave trailing spaces.\n",
            "I have a tendency to leave trailing spaces. \n",
            " I have a tendency to leave trailing spaces.\n"
          ]
        }
      ],
      "source": [
        "d = ' I have a tendency to leave trailing spaces. '\n",
        "\n",
        "print(d.strip())\n",
        "print(d.lstrip())\n",
        "print(d.rstrip())"
      ]
    },
    {
      "cell_type": "markdown",
      "metadata": {
        "id": "13deVt7MtjSy"
      },
      "source": [
        "Otra operación de cadena útil, que vimos brevemente en las lecciones de manipulación de datos, es utilizar el método de reemplazo, que reemplaza una cadena por otra."
      ]
    },
    {
      "cell_type": "code",
      "execution_count": null,
      "metadata": {
        "id": "TZo9xIw1tjSy",
        "outputId": "8409046e-d90e-418c-8692-9e45d08d6b30"
      },
      "outputs": [
        {
          "name": "stdout",
          "output_type": "stream",
          "text": [
            "I thought the movie was horrible!\n",
            "I thought the movie was just OK!\n"
          ]
        }
      ],
      "source": [
        "e = 'I thought the movie was wonderful!'\n",
        "\n",
        "print(e.replace('wonderful', 'horrible'))\n",
        "print(e.replace('wonderful', 'just OK'))"
      ]
    },
    {
      "cell_type": "markdown",
      "metadata": {
        "id": "vmwP1uoxtjSy"
      },
      "source": [
        "# Expresiones regulares\n",
        "\n",
        "Los métodos de operaciones con cadenas de Python pueden llevarnos muy lejos, pero inevitablemente nos encontraremos con una situación en la que necesitaremos confiar en algunas herramientas adicionales llamadas expresiones regulares. Las expresiones regulares nos permiten realizar diferentes tipos de coincidencias de patrones en el texto para llegar al resultado que queremos.\n",
        "\n",
        "Para usar expresiones regulares, importaremos la biblioteca re."
      ]
    },
    {
      "cell_type": "code",
      "execution_count": 2,
      "metadata": {
        "id": "sXRPBFdStjSy"
      },
      "outputs": [],
      "source": [
        "import re"
      ]
    },
    {
      "cell_type": "markdown",
      "metadata": {
        "id": "UJmWNnyrtjSy"
      },
      "source": [
        "Algunos de los métodos más útiles de la biblioteca `re` son:\n",
        "\n",
        "`search`: devuelve la primera instancia de una expresión en una cadena.\n",
        "\n",
        "\n",
        "`findall`: busca todas las instancias de una expresión en una cadena y las devuelve como una lista.\n",
        "\n",
        "\n",
        "`split`: divide una cadena en función de un delimitador especificado.\n",
        "\n",
        "\n",
        "`sub`: sustituye una cadena o subcadena por otra.\n",
        "\n",
        "Las expresiones regulares consisten en secuencias que representan ciertos tipos de caracteres que pueden aparecer en cadenas. Podemos utilizar el método findall para devolver todos los caracteres de una cadena que coincidan con una serie de caracteres de la siguiente manera."
      ]
    },
    {
      "cell_type": "code",
      "execution_count": 3,
      "metadata": {
        "colab": {
          "base_uri": "https://localhost:8080/"
        },
        "id": "R1dLk8FktjSy",
        "outputId": "554a93c0-9a24-497b-95ee-c5e677d600cd"
      },
      "outputs": [
        {
          "output_type": "stream",
          "name": "stdout",
          "text": [
            "['neigh']\n"
          ]
        }
      ],
      "source": [
        "text = 'My neighbor, Mr. Rogers, has 5 dogs.'\n",
        "print(re.findall('neigh', text))"
      ]
    },
    {
      "cell_type": "markdown",
      "metadata": {
        "id": "FT3bynMstjSz"
      },
      "source": [
        "Si queremos devolver todos los caracteres que coinciden dentro del texto, podemos convertir la serie de caracteres del patrón en un conjunto encerrándolos entre corchetes (`[]`)."
      ]
    },
    {
      "cell_type": "code",
      "execution_count": 5,
      "metadata": {
        "colab": {
          "base_uri": "https://localhost:8080/"
        },
        "id": "XQzhv4y_tjSz",
        "outputId": "a34dbc01-4483-4863-a732-d93d999ad70e"
      },
      "outputs": [
        {
          "output_type": "stream",
          "name": "stdout",
          "text": [
            "['o', 'o', 'o']\n"
          ]
        }
      ],
      "source": [
        "print(re.findall('[mo]', text))"
      ]
    },
    {
      "cell_type": "markdown",
      "metadata": {
        "id": "q1GnvXyvtjSz"
      },
      "source": [
        "Esto encontró cualquier carácter que designamos explícitamente en nuestra expresión regular y lo devolvió como una lista. Tenga en cuenta que no se devolvieron las M mayúsculas, ya que las expresiones regulares distinguen entre mayúsculas y minúsculas.\n",
        "\n",
        "Las expresiones regulares también tienen conjuntos predefinidos que podemos usar como atajos para que, por ejemplo, no tengamos que escribir todas las letras del alfabeto o todos los números para que coincidan. A continuación, se muestran algunos de los conjuntos de expresiones regulares más útiles.\n",
        "\n",
        "`[a-z]`: cualquier letra minúscula entre la a y la z.\n",
        "\n",
        "\n",
        "`[A-Z]`: cualquier letra mayúscula entre la A y la Z.\n",
        "\n",
        "\n",
        "`[0-9]`: cualquier carácter numérico entre el 0 y el 9.\n",
        "\n",
        "Consulte http://regex101.com/"
      ]
    },
    {
      "cell_type": "code",
      "execution_count": null,
      "metadata": {
        "id": "lLp-XFjWtjSz",
        "outputId": "09a83b42-8709-4dc7-8489-8ebf4f602fd4"
      },
      "outputs": [
        {
          "name": "stdout",
          "output_type": "stream",
          "text": [
            "['y', 'n', 'e', 'i', 'g', 'h', 'b', 'o', 'r', 'r', 'o', 'g', 'e', 'r', 's', 'h', 'a', 's', 'd', 'o', 'g', 's']\n"
          ]
        }
      ],
      "source": [
        "print(re.findall('[a-z]', text))"
      ]
    },
    {
      "cell_type": "markdown",
      "metadata": {
        "id": "7BZpiOV8tjSz"
      },
      "source": [
        "Tenga en cuenta que este conjunto devolvió todas las letras minúsculas y excluyó las M y R mayúsculas, el número 5 y todos los signos de puntuación. Podemos agregar el carácter ^ dentro de los corchetes para devolver todo lo que no coincida con la secuencia que hemos designado."
      ]
    },
    {
      "cell_type": "code",
      "execution_count": 6,
      "metadata": {
        "colab": {
          "base_uri": "https://localhost:8080/"
        },
        "id": "i0ENg0NftjS0",
        "outputId": "ed67fd38-99c2-45a2-b486-79641ccdcc60"
      },
      "outputs": [
        {
          "output_type": "stream",
          "name": "stdout",
          "text": [
            "['M', ' ', ',', ' ', 'M', '.', ' ', 'R', ',', ' ', ' ', '5', ' ', '.']\n"
          ]
        }
      ],
      "source": [
        "print(re.findall('[^a-z]', text))"
      ]
    },
    {
      "cell_type": "markdown",
      "metadata": {
        "id": "acvumh6vtjS0"
      },
      "source": [
        "En este caso, devolvió las letras mayúsculas, el número y todos los signos de puntuación y espacios en blanco.\n",
        "\n",
        "¿Qué sucede si queremos extraer letras mayúsculas y minúsculas de nuestra cadena? Podemos simplemente agregar A-Z dentro de nuestros corchetes."
      ]
    },
    {
      "cell_type": "code",
      "execution_count": null,
      "metadata": {
        "id": "1JbmvbMXtjS0",
        "outputId": "53c6722d-a9e6-41d5-9604-be2a7fe676f8"
      },
      "outputs": [
        {
          "name": "stdout",
          "output_type": "stream",
          "text": [
            "['M', 'y', 'n', 'e', 'i', 'g', 'h', 'b', 'o', 'r', 'M', 'r', 'R', 'o', 'g', 'e', 'r', 's', 'h', 'a', 's', 'd', 'o', 'g', 's']\n"
          ]
        }
      ],
      "source": [
        "print(re.findall('[a-zA-Z]', text))"
      ]
    },
    {
      "cell_type": "markdown",
      "metadata": {
        "id": "GoX8wwD_tjS0"
      },
      "source": [
        "And if we wanted to also extract spaces, we can add a space."
      ]
    },
    {
      "cell_type": "code",
      "execution_count": null,
      "metadata": {
        "id": "C6B4w-dWtjS0",
        "outputId": "62fd6816-07b6-4f32-ed47-60e9d56c18bf"
      },
      "outputs": [
        {
          "name": "stdout",
          "output_type": "stream",
          "text": [
            "['M', 'y', ' ', 'n', 'e', 'i', 'g', 'h', 'b', 'o', 'r', ' ', 'M', 'r', ' ', 'R', 'o', 'g', 'e', 'r', 's', ' ', 'h', 'a', 's', ' ', ' ', 'd', 'o', 'g', 's']\n"
          ]
        }
      ],
      "source": [
        "print(re.findall('[a-zA-Z ]', text))"
      ]
    },
    {
      "cell_type": "markdown",
      "metadata": {
        "id": "PNBRv5idtjS1"
      },
      "source": [
        "Una vez que llegamos a un punto en el que agregamos múltiples elementos a nuestra expresión regular, querremos aprovechar atajos adicionales llamados clases de caracteres (también conocidas como secuencias especiales). A continuación, se muestran algunos de los más útiles y con qué coinciden.\n",
        "\n",
        "    \\w: Cualquier carácter alfanumérico.\n",
        "    \\W: Cualquier carácter no alfanumérico.\n",
        "    \\d: Cualquier carácter numérico.\n",
        "    \\D: Cualquier carácter no numérico.\n",
        "    \\s: Cualquier carácter de espacio en blanco.\n",
        "    \\S: Cualquier carácter que no sea un espacio en blanco.\n",
        "    .: Cualquier carácter excepto el de nueva línea (\\n).\n",
        "\n",
        "Echemos un vistazo a cómo funcionan algunos de estos."
      ]
    },
    {
      "cell_type": "code",
      "execution_count": null,
      "metadata": {
        "id": "HQHKlKW-tjS1",
        "outputId": "2eb54ea9-d7e4-4413-cfdb-1cb4bff3f5d2"
      },
      "outputs": [
        {
          "name": "stdout",
          "output_type": "stream",
          "text": [
            "['5']\n"
          ]
        }
      ],
      "source": [
        "print(re.findall('[\\d]', text))"
      ]
    },
    {
      "cell_type": "code",
      "execution_count": null,
      "metadata": {
        "id": "uCSthzBatjS1",
        "outputId": "73c16601-6e44-4e01-ed59-5dc50bb23fb3"
      },
      "outputs": [
        {
          "name": "stdout",
          "output_type": "stream",
          "text": [
            "['M', 'y', 'n', 'e', 'i', 'g', 'h', 'b', 'o', 'r', 'M', 'r', 'R', 'o', 'g', 'e', 'r', 's', 'h', 'a', 's', '5', 'd', 'o', 'g', 's']\n"
          ]
        }
      ],
      "source": [
        "print(re.findall('[\\w]', text))"
      ]
    },
    {
      "cell_type": "code",
      "execution_count": null,
      "metadata": {
        "id": "b7ZAwzCbtjS1",
        "outputId": "f0c638d4-42a2-4b66-be2f-329c3413c7cf"
      },
      "outputs": [
        {
          "name": "stdout",
          "output_type": "stream",
          "text": [
            "['M', 'y', 'n', 'e', 'i', 'g', 'h', 'b', 'o', 'r', ',', 'M', 'r', '.', 'R', 'o', 'g', 'e', 'r', 's', ',', 'h', 'a', 's', '5', 'd', 'o', 'g', 's', '.']\n"
          ]
        }
      ],
      "source": [
        "print(re.findall('[\\S]', text))"
      ]
    },
    {
      "cell_type": "code",
      "execution_count": null,
      "metadata": {
        "id": "HcteJzcmtjS1",
        "outputId": "00e36176-ced5-4f08-e747-1a6dc410f6a4"
      },
      "outputs": [
        {
          "name": "stdout",
          "output_type": "stream",
          "text": [
            "['M', 'y', ' ', 'n', 'e', 'i', 'g', 'h', 'b', 'o', 'r', ',', ' ', 'M', 'r', '.', ' ', 'R', 'o', 'g', 'e', 'r', 's', ',', ' ', 'h', 'a', 's', ' ', '5', ' ', 'd', 'o', 'g', 's', '.']\n"
          ]
        }
      ],
      "source": [
        "print(re.findall('.', text))"
      ]
    },
    {
      "cell_type": "markdown",
      "metadata": {
        "id": "Czue_A5BtjS3"
      },
      "source": [
        "Podemos utilizar el método de división para dividir una cadena en caracteres específicos, como comas o cualquier valor numérico."
      ]
    },
    {
      "cell_type": "code",
      "execution_count": null,
      "metadata": {
        "id": "96WUdHtBtjS3",
        "outputId": "682bf108-6e7d-4958-a98b-5e5e462d848d"
      },
      "outputs": [
        {
          "name": "stdout",
          "output_type": "stream",
          "text": [
            "['My neighbor', 'Mr. Rogers', 'has 5 dogs.']\n"
          ]
        }
      ],
      "source": [
        "print(re.split(', ', text))"
      ]
    },
    {
      "cell_type": "code",
      "execution_count": null,
      "metadata": {
        "id": "tUA9XYFTtjS3",
        "outputId": "b462f780-2c12-46e0-909d-9877b117bbf2"
      },
      "outputs": [
        {
          "name": "stdout",
          "output_type": "stream",
          "text": [
            "['My neighbor, Mr. Rogers, has ', ' dogs.']\n"
          ]
        }
      ],
      "source": [
        "print(re.split('[0-9]', text))"
      ]
    },
    {
      "cell_type": "markdown",
      "metadata": {
        "id": "l_ZuhwMntjS3"
      },
      "source": [
        "Veamos también cómo podemos utilizar el método sub para sustituir la cantidad de perros que tiene nuestro vecino."
      ]
    },
    {
      "cell_type": "code",
      "execution_count": null,
      "metadata": {
        "id": "iGG5ZzfmtjS4",
        "outputId": "d8c5fa30-d45f-4e89-e23f-fc57af76abd6"
      },
      "outputs": [
        {
          "name": "stdout",
          "output_type": "stream",
          "text": [
            "My neighbor, Mr. Rogers, has 100 dogs.\n"
          ]
        }
      ],
      "source": [
        "print(re.sub('[0-9]', '100', text))"
      ]
    },
    {
      "cell_type": "code",
      "execution_count": null,
      "metadata": {
        "id": "fz0EYNfntjS4"
      },
      "outputs": [],
      "source": []
    }
  ],
  "metadata": {
    "kernelspec": {
      "display_name": "Python 3",
      "language": "python",
      "name": "python3"
    },
    "language_info": {
      "codemirror_mode": {
        "name": "ipython",
        "version": 3
      },
      "file_extension": ".py",
      "mimetype": "text/x-python",
      "name": "python",
      "nbconvert_exporter": "python",
      "pygments_lexer": "ipython3",
      "version": "3.7.2"
    },
    "colab": {
      "provenance": []
    }
  },
  "nbformat": 4,
  "nbformat_minor": 0
}