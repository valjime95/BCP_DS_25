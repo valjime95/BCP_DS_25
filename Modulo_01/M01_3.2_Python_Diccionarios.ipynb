{
  "cells": [
    {
      "cell_type": "markdown",
      "source": [
        "## Diccionarios\n",
        "\n",
        "Los diccionarios se utilizan para almacenar datos en pares clave-valor. Puede pensar en la clave de un diccionario como la clave de una bóveda donde se almacenan los valores.   \n",
        "\n",
        "Puede acceder al elemento o elementos almacenados en el valor utilizando la **clave** particular.   \n",
        "\n",
        "**Las llaves** se utilizan para definir un diccionario.\n",
        "\n",
        "Diferentes **pares clave-valor están separados por comas**.\n",
        "\n",
        "<!-- Almacenamos los datos detrás de escena en un mapa hash. Esto significa que usamos la clave para generar un índice único (llamado hash) y almacenar el valor en la ubicación marcada por ese índice. Esto hace que la recuperación sea muy rápida. -->"
      ],
      "metadata": {
        "id": "aXsB4sQDAVfg"
      }
    },
    {
      "cell_type": "code",
      "execution_count": null,
      "source": [
        "contacts = {'John': '312-555-1234', 'Paul': '312-555-3123', 'George': '312-555-3333', 'Ringo': '312-555-2222'}"
      ],
      "outputs": [],
      "metadata": {
        "id": "7d-O0PJ1AVfi"
      }
    },
    {
      "cell_type": "code",
      "execution_count": null,
      "source": [
        "type(contacts)"
      ],
      "outputs": [
        {
          "output_type": "execute_result",
          "data": {
            "text/plain": [
              "dict"
            ]
          },
          "metadata": {},
          "execution_count": 2
        }
      ],
      "metadata": {
        "id": "Xv2skdWwAVfj",
        "outputId": "f2749206-4b22-43ed-d3bf-44f1ee3fe3d9"
      }
    },
    {
      "cell_type": "markdown",
      "source": [
        "Aquí hemos definido un diccionario y lo guardamos en una variable llamada \"contactos\".  \n",
        "\n",
        "Un par clave-valor se define mediante dos puntos **`:`** - `clave: valor`.\n",
        "\n",
        "Los diferentes pares clave-valor aquí son:\n",
        "- \"Juan\": \"312-555-1234\"\n",
        "- \"Pablo\": \"312-555-3123\"\n",
        "- \"Jorge\": \"312-555-3333\"\n",
        "- \"Ringo\": \"312-555-2222\"\n",
        "\n",
        "Todas las **claves** de un diccionario **son siempre únicas**, los *valores se pueden repetir*.\n",
        "\n",
        "### Accediendo a valores usando las claves"
      ],
      "metadata": {
        "id": "M-RVsbKJAVfl"
      }
    },
    {
      "cell_type": "code",
      "execution_count": null,
      "source": [
        "contacts['John']  # Esto es muy similar a listas, excepto que se usan las \"llaves\" para acceder a los elementos"
      ],
      "outputs": [
        {
          "output_type": "execute_result",
          "data": {
            "text/plain": [
              "'312-555-1234'"
            ]
          },
          "metadata": {},
          "execution_count": 3
        }
      ],
      "metadata": {
        "id": "DqUqhnJGAVfm",
        "outputId": "24506a4f-d883-4911-c51f-030eb620ac73"
      }
    },
    {
      "cell_type": "code",
      "execution_count": null,
      "source": [
        "contacts['Paul']"
      ],
      "outputs": [
        {
          "output_type": "execute_result",
          "data": {
            "text/plain": [
              "'312-555-3123'"
            ]
          },
          "metadata": {},
          "execution_count": 4
        }
      ],
      "metadata": {
        "id": "v_Zq0fQ3AVfn",
        "outputId": "5f4622a6-3e8c-4165-f979-3231100056e0"
      }
    },
    {
      "cell_type": "markdown",
      "source": [
        "**Nota:** Las claves distinguen entre mayúsculas y minúsculas. Por ej. Si utiliza el siguiente código, producirá un error como se muestra:"
      ],
      "metadata": {
        "id": "k9gf9apOAVfn"
      }
    },
    {
      "cell_type": "code",
      "execution_count": null,
      "source": [
        "contacts['PAUL']"
      ],
      "outputs": [
        {
          "output_type": "error",
          "ename": "KeyError",
          "evalue": "'PAUL'",
          "traceback": [
            "\u001b[0;31m---------------------------------------------------------------------------\u001b[0m",
            "\u001b[0;31mKeyError\u001b[0m                                  Traceback (most recent call last)",
            "\u001b[0;32m<ipython-input-5-72754c72acff>\u001b[0m in \u001b[0;36m<module>\u001b[0;34m\u001b[0m\n\u001b[0;32m----> 1\u001b[0;31m \u001b[0mcontacts\u001b[0m\u001b[0;34m[\u001b[0m\u001b[0;34m'PAUL'\u001b[0m\u001b[0;34m]\u001b[0m\u001b[0;34m\u001b[0m\u001b[0;34m\u001b[0m\u001b[0m\n\u001b[0m",
            "\u001b[0;31mKeyError\u001b[0m: 'PAUL'"
          ]
        }
      ],
      "metadata": {
        "id": "bdCxB7AXAVfo",
        "outputId": "39a4ef41-5e28-4a4b-dceb-14bcb50f485d"
      }
    },
    {
      "cell_type": "markdown",
      "source": [
        "Verifique qué claves hay en el diccionario usando el método **`.keys()`**."
      ],
      "metadata": {
        "id": "6p_IoPGvAVfo"
      }
    },
    {
      "cell_type": "code",
      "execution_count": null,
      "source": [
        "contacts.keys()"
      ],
      "outputs": [
        {
          "output_type": "execute_result",
          "data": {
            "text/plain": [
              "dict_keys(['John', 'Paul', 'George', 'Ringo'])"
            ]
          },
          "metadata": {},
          "execution_count": 7
        }
      ],
      "metadata": {
        "id": "dH3yREKDAVfo",
        "outputId": "5a7e4299-aaea-4bc8-a4c4-91b9c8e12c39"
      }
    },
    {
      "cell_type": "markdown",
      "source": [
        "De manera similar, también podemos verificar los valores en el diccionario usando el método **`.values()`**."
      ],
      "metadata": {
        "id": "1daoHlzdAVfp"
      }
    },
    {
      "cell_type": "code",
      "execution_count": null,
      "source": [
        "contacts.values()"
      ],
      "outputs": [
        {
          "output_type": "execute_result",
          "data": {
            "text/plain": [
              "dict_values(['312-555-1234', '312-555-3123', '312-555-3333', '312-555-2222'])"
            ]
          },
          "metadata": {},
          "execution_count": 8
        }
      ],
      "metadata": {
        "id": "Y2O6-u6NAVfp",
        "outputId": "210ea1af-712a-4cc4-f95b-64bf82cd83ad"
      }
    },
    {
      "cell_type": "markdown",
      "source": [
        "Si observa de cerca, los valores en el resultado anterior se almacenan entre corchetes. Por lo tanto, podemos decir que\n",
        "`contacts.values()` devuelve la salida como una lista.\n",
        "\n",
        "### Agregar nuevos elementos a un diccionario\n",
        "\n",
        "Para agregar un nuevo par clave-valor en un diccionario, utilizamos una sintaxis muy simple.\n",
        "\n",
        "Tienes que dar el nombre de la clave entre corchetes y luego asignarle un valor:\n",
        "\n",
        "`<Nombre del diccionario>[<clave>] = valor`"
      ],
      "metadata": {
        "id": "9gI1rllpAVfq"
      }
    },
    {
      "cell_type": "code",
      "execution_count": null,
      "source": [
        "contacts['Himanshu'] = '480-111-2222'\n",
        "# Las llaves SON ÚNICAS"
      ],
      "outputs": [],
      "metadata": {
        "id": "W_e9LewlAVfq"
      }
    },
    {
      "cell_type": "markdown",
      "source": [
        "En el ejemplo anterior, las claves y los valores almacenados en el diccionario eran solo cadenas. Pero podemos tener cualquier\n",
        "tipo de tipo de datos para las claves y valores."
      ],
      "metadata": {
        "id": "meB9s7kDAVfq"
      }
    },
    {
      "cell_type": "code",
      "execution_count": null,
      "source": [
        "student_names = {1: 'John', 2: 'Smith', 3: 'Matt', 4: 'Jimmy', 5: 'Sue'}\n",
        "student_names[1]"
      ],
      "outputs": [
        {
          "output_type": "execute_result",
          "data": {
            "text/plain": [
              "'John'"
            ]
          },
          "metadata": {},
          "execution_count": 10
        }
      ],
      "metadata": {
        "id": "L9VT56oTAVfq",
        "outputId": "5a0de855-de54-4cdd-814e-1ea85d80c57d"
      }
    },
    {
      "cell_type": "code",
      "execution_count": null,
      "source": [
        "student_names[2]"
      ],
      "outputs": [
        {
          "output_type": "execute_result",
          "data": {
            "text/plain": [
              "'Smith'"
            ]
          },
          "metadata": {},
          "execution_count": 11
        }
      ],
      "metadata": {
        "id": "0RTQpSh2AVfr",
        "outputId": "478e6e34-2c69-4ee2-b1cd-6bec07202793"
      }
    },
    {
      "cell_type": "markdown",
      "source": [
        "La idea principal aquí es que los valores se identifican en un diccionario mediante las claves.\n",
        "\n",
        "Python es realmente poderoso en el sentido de que brinda al usuario la flexibilidad de crear estructuras de datos más complicadas.\n",
        "\n",
        "Los valores dentro de un diccionario pueden ser listas o diccionarios en sí (los llamamos diccionarios *anidados*). Veremos algunos de esos ejemplos."
      ],
      "metadata": {
        "id": "33PmIncAAVfr"
      }
    },
    {
      "cell_type": "code",
      "execution_count": null,
      "source": [
        "student_data = {\n",
        "    'Name': 'Himanshu',\n",
        "    'E-mail': 'himanshuagg@gmail.com',\n",
        "    'Age': 28,\n",
        "    'subjects': ['math', 'science', 'history', 'geography']\n",
        "}"
      ],
      "outputs": [],
      "metadata": {
        "id": "f23PPxBnAVfr"
      }
    },
    {
      "cell_type": "code",
      "execution_count": null,
      "source": [
        "student_data.keys()"
      ],
      "outputs": [
        {
          "output_type": "execute_result",
          "data": {
            "text/plain": [
              "dict_keys(['Name', 'E-mail', 'Age', 'subjects'])"
            ]
          },
          "metadata": {},
          "execution_count": 14
        }
      ],
      "metadata": {
        "id": "Y7dyUZCZAVfs",
        "outputId": "5ee9008a-e92e-44c3-8258-517f4baaff3b"
      }
    },
    {
      "cell_type": "code",
      "execution_count": null,
      "source": [
        "student_data['Name']"
      ],
      "outputs": [
        {
          "output_type": "execute_result",
          "data": {
            "text/plain": [
              "'Himanshu'"
            ]
          },
          "metadata": {},
          "execution_count": 16
        }
      ],
      "metadata": {
        "id": "ZnfJ0UclAVfs",
        "outputId": "5d161353-e070-425c-c451-52ee389a963a"
      }
    },
    {
      "cell_type": "code",
      "execution_count": null,
      "source": [
        "student_data['E-mail']"
      ],
      "outputs": [
        {
          "output_type": "execute_result",
          "data": {
            "text/plain": [
              "'himanshuagg@gmail.com'"
            ]
          },
          "metadata": {},
          "execution_count": 17
        }
      ],
      "metadata": {
        "id": "1PLXMHqqAVfs",
        "outputId": "e0b5ec40-e34a-4be5-8a03-6773ffbbbd32"
      }
    },
    {
      "cell_type": "code",
      "execution_count": null,
      "source": [
        "student_data['Age']"
      ],
      "outputs": [
        {
          "output_type": "execute_result",
          "data": {
            "text/plain": [
              "28"
            ]
          },
          "metadata": {},
          "execution_count": 18
        }
      ],
      "metadata": {
        "id": "7_REMQJlAVft",
        "outputId": "f08cee94-af59-4b12-b36a-733192edaa55"
      }
    },
    {
      "cell_type": "code",
      "execution_count": null,
      "source": [
        "student_data['subjects']"
      ],
      "outputs": [
        {
          "output_type": "execute_result",
          "data": {
            "text/plain": [
              "['math', 'science', 'history', 'geography']"
            ]
          },
          "metadata": {},
          "execution_count": 19
        }
      ],
      "metadata": {
        "id": "-wF4o6G4AVft",
        "outputId": "afff5274-3134-4660-d2a4-e2a3fb05dcef"
      }
    },
    {
      "cell_type": "markdown",
      "source": [
        "**Nota**: El valor asociado con la clave 'subjects' es una lista. La clave identifica de forma única el valor vinculado con la clave, en este caso una lista.\n",
        "\n",
        "De acuerdo con esto, si queremos acceder a \"science\", primero debemos acceder a la clave \"materias\" en el diccionario. Luego, como el \"valor\" es una lista, necesitamos usar el elemento correspondiente de la lista."
      ],
      "metadata": {
        "id": "VagKpYt7AVft"
      }
    },
    {
      "cell_type": "code",
      "execution_count": null,
      "source": [
        "student_data['subjects'][1]"
      ],
      "outputs": [
        {
          "output_type": "execute_result",
          "data": {
            "text/plain": [
              "'science'"
            ]
          },
          "metadata": {},
          "execution_count": 20
        }
      ],
      "metadata": {
        "id": "yRwc0uijAVfu",
        "outputId": "2ebdda93-33d2-4de7-9940-eb4adf1ab811"
      }
    }
  ],
  "metadata": {
    "kernelspec": {
      "display_name": "Python 3",
      "language": "python",
      "name": "python3"
    },
    "language_info": {
      "codemirror_mode": {
        "name": "ipython",
        "version": 3
      },
      "file_extension": ".py",
      "mimetype": "text/x-python",
      "name": "python",
      "nbconvert_exporter": "python",
      "pygments_lexer": "ipython3",
      "version": "3.8.8"
    },
    "colab": {
      "provenance": []
    }
  },
  "nbformat": 4,
  "nbformat_minor": 0
}