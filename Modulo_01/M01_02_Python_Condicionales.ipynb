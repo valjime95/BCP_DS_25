{
  "cells": [
    {
      "cell_type": "markdown",
      "metadata": {
        "id": "p5YDIUV7aEeG"
      },
      "source": [
        "## Declaraciones condicionales\n",
        "\n",
        "Las declaraciones condicionales se utilizan cuando tenemos que controlar el flujo del programa. En Python, tenemos IF, ELIF (si no) y ELSE. La idea es que ciertas declaraciones se ejecuten cuando se cumple una condición; de lo contrario, no se ejecutan.  \n",
        "Veremos algunos ejemplos para ver cómo se implementan y utilizan en Python. Usamos operadores de comparación en las declaraciones condicionales."
      ]
    },
    {
      "cell_type": "markdown",
      "metadata": {
        "id": "Az-zRvQgaEeI"
      },
      "source": [
        "**A continuación mostramos implementaciones simples de declaraciones IF, ELIF y ELSE**"
      ]
    },
    {
      "cell_type": "code",
      "execution_count": null,
      "metadata": {
        "id": "jcIwq5YqaEeJ",
        "outputId": "579cd8b3-8147-4673-dd46-3261cc286b38"
      },
      "outputs": [
        {
          "name": "stdout",
          "output_type": "stream",
          "text": [
            "b is greater\n"
          ]
        }
      ],
      "source": [
        "# Aquí estamos tratando de encontrar el mayor entre dos numeros\n",
        "a = 2\n",
        "b = 5\n",
        "if a > b:\n",
        "    print('a es mayor')\n",
        "else:\n",
        "    print('b es mayor')"
      ]
    },
    {
      "cell_type": "markdown",
      "metadata": {
        "id": "vx9TVL_-aEeL"
      },
      "source": [
        "Debes prestar atención a un par de puntos del código anterior. Primero, dos puntos \":\" después de la condición o \"de lo contrario\", ya que esto marca el punto de inicio del código que se ejecutará. En segundo lugar, como puede ver, la primera declaración `print()` no comienza desde el extremo izquierdo. Están un poco desplazados hacia la derecha. Esto se hace para indicar que el siguiente código se ejecutará si se cumple la condición. De lo contrario, Python considerará que el código no tiene nada que ver con la condición if. Lo mismo se aplica a la función `print()` después de `else:`. Esto se llama *identación* y Jupyter lo aplica automáticamente cada vez que escribe \":\".\n",
        "\n",
        "Para comprender cómo funciona esto, considere el siguiente código:"
      ]
    },
    {
      "cell_type": "code",
      "execution_count": null,
      "metadata": {
        "id": "4oZJMITFaEeN"
      },
      "outputs": [],
      "source": [
        "a = 2\n",
        "b = 5\n",
        "if a > b:\n",
        "    print('a es mayor')\n",
        "else:\n",
        "    print('b es mayor')\n",
        "print(\"¡Listo!\")"
      ]
    },
    {
      "cell_type": "markdown",
      "metadata": {
        "id": "Od2s--uzaEeO"
      },
      "source": [
        "En el código anterior, la última `print(\"¡Listo!\")` se ejecutará independientemente de la condición `a > b` porque si no está *identada*."
      ]
    },
    {
      "cell_type": "code",
      "execution_count": null,
      "metadata": {
        "id": "E6JYYNH7aEeP",
        "outputId": "fc356345-0da4-4dc8-bcba-5b5ce03796ae"
      },
      "outputs": [
        {
          "data": {
            "image/png": "[encoded data removed]",
            "text/plain": [
              "<IPython.core.display.Image object>"
            ]
          },
          "execution_count": 6,
          "metadata": {
            "image/png": {
              "height": 300,
              "width": 300
            }
          },
          "output_type": "execute_result"
        }
      ],
      "source": [
        "# Estamos usando la biblioteca IPython para importar imagenes\n",
        "from IPython.display import Image\n",
        "Image(filename = \"https://education-team-2020.s3-eu-west-1.amazonaws.com/data-analytics/prework/unit1/conditional_statement_if_else.png\" , width=300, height=300)"
      ]
    },
    {
      "cell_type": "markdown",
      "metadata": {
        "id": "00cNVasmaEeQ"
      },
      "source": [
        "En el código anterior, no hemos tomado en consideración el caso en el que los dos números podrían ser iguales...    \n",
        "Para ello tendremos que introducir otra condición a nuestro código:"
      ]
    },
    {
      "cell_type": "code",
      "execution_count": null,
      "metadata": {
        "id": "zGtXDxsBaEeR",
        "outputId": "93118ebd-4c6a-4e04-eff2-24b29b6d58ff"
      },
      "outputs": [
        {
          "name": "stdout",
          "output_type": "stream",
          "text": [
            "a is greater\n"
          ]
        }
      ],
      "source": [
        "a = 5\n",
        "b = 2\n",
        "# Presta atención a la sintaxis y a la identación\n",
        "if a>b:\n",
        "    print('a es mayor')\n",
        "else:\n",
        "    print('b es mayor')\n",
        "else:\n",
        "    print('Ambos sin iguales')\n",
        "\n",
        "# En este caso, la primera condición es verdadera. Entonces solo el primer comando dentro deL 'IF' es ejecutado"
      ]
    },
    {
      "cell_type": "markdown",
      "metadata": {
        "id": "rhOkqMtgaEeR"
      },
      "source": [
        "**Aquí hay un diagrama de flujo simple para declaraciones IF, ELSE IF y ELSE**"
      ]
    },
    {
      "cell_type": "code",
      "execution_count": null,
      "metadata": {
        "id": "Mio4R5zSaEeT",
        "outputId": "519b921c-2266-49b0-d6cb-a67edfd40dbf"
      },
      "outputs": [
        {
          "data": {
            "image/png": "[encoded data removed]",
            "text/plain": [
              "<IPython.core.display.Image object>"
            ]
          },
          "execution_count": 14,
          "metadata": {},
          "output_type": "execute_result"
        }
      ],
      "source": [
        "Image(filename = \"https://education-team-2020.s3-eu-west-1.amazonaws.com/data-analytics/prework/unit1/conditional_statements_if_elseIf_else.png\")"
      ]
    },
    {
      "cell_type": "markdown",
      "metadata": {
        "id": "IZx4BiDaaEeU"
      },
      "source": [
        "**Otra implementación del código anterior. En este caso ejecutaremos múltiples declaraciones si se cumple una condición.   \n",
        "Tenga en cuenta que todas las declaraciones con la misma identación se ejecutan.**"
      ]
    },
    {
      "cell_type": "code",
      "execution_count": null,
      "metadata": {
        "id": "8_GqkEvIaEeU",
        "outputId": "ac80c7d3-797b-42fc-daae-6ca6e1550f9a"
      },
      "outputs": [
        {
          "name": "stdout",
          "output_type": "stream",
          "text": [
            "a is greater\n",
            "Value of a is 5\n",
            "And value of b is 2\n"
          ]
        }
      ],
      "source": [
        "a = 5\n",
        "b = 2\n",
        "# Pon atención en este código. Todas las líneas que esten dentro de cada bloque, que tengan la misma identacicón, serán ejecutadas.\n",
        "if a>b:\n",
        "    print('a es mayor')\n",
        "    print('El valor de a es',a)\n",
        "    print('Y el valor de b es',b)\n",
        "elif b>a:\n",
        "    print('b es mayor')\n",
        "    print('El valor de a es', a)\n",
        "    print('Y el valor de b es',b)\n",
        "else:\n",
        "    print('Ambos tienen el mismo valor')\n",
        "\n",
        "# En este caso la primera condición es la que se cumple. Entonce solo los comenados dentro de la declaración del 'IF' son ejecutadas."
      ]
    },
    {
      "cell_type": "markdown",
      "metadata": {
        "id": "mkmAQdQJaEeV"
      },
      "source": [
        "**Ahora veremos el mismo ejemplo anterior con diferentes valores de 'a' y 'b'**"
      ]
    },
    {
      "cell_type": "code",
      "execution_count": null,
      "metadata": {
        "id": "DEksPbPNaEeV",
        "outputId": "50484bea-8276-4676-ed06-b6944917d4e6"
      },
      "outputs": [
        {
          "name": "stdout",
          "output_type": "stream",
          "text": [
            "b is greater\n",
            "Value of a is 10\n",
            "And value of b is 50\n"
          ]
        }
      ],
      "source": [
        "a = 10\n",
        "b = 50\n",
        "\n",
        "if a>b:\n",
        "    print('a es mayor')\n",
        "    print('El valor de a es',a)\n",
        "    print('Y el valor de b es',b)\n",
        "elif b>a:\n",
        "    print('b es mayor')\n",
        "    print('El valor de a es', a)\n",
        "    print('Y el valor de b es',b)\n",
        "else:\n",
        "    print('Ambos tienen el mismo valor')\n",
        "\n",
        "# En este caso la primera condición es la que se cumple. Entonce solo los comenados dentro de la declaración del 'ELIF' son ejecutadas."
      ]
    },
    {
      "cell_type": "markdown",
      "metadata": {
        "id": "u2Dj0e1FaEeV"
      },
      "source": [
        "### Pruebe el código: ¿Qué pasará si 'a' y 'b' tienen el mismo valor?\n",
        "Asigne el mismo valor a las variables 'a' y 'b' y vea los resultados"
      ]
    },
    {
      "cell_type": "code",
      "execution_count": null,
      "metadata": {
        "id": "CiCMf0rGaEeV"
      },
      "outputs": [],
      "source": []
    },
    {
      "cell_type": "code",
      "execution_count": null,
      "metadata": {
        "id": "oeqK6_X2aEeW"
      },
      "outputs": [],
      "source": []
    },
    {
      "cell_type": "markdown",
      "metadata": {
        "id": "nOUMl2H7aEeW"
      },
      "source": [
        "# Declaraciones condicionales: múltiples condiciones\n",
        "\n",
        "**Aquí veremos algunos ejemplos en los que se unen varias declaraciones condicionales mediante operadores lógicos**\n",
        "\n",
        "Intentaremos encontrar el mayor de tres números."
      ]
    },
    {
      "cell_type": "code",
      "execution_count": null,
      "metadata": {
        "id": "2EbxSgWEaEeX",
        "outputId": "eb90e395-c7cb-4926-e778-4a9f662e0886"
      },
      "outputs": [
        {
          "name": "stdout",
          "output_type": "stream",
          "text": [
            "c is the greatest\n"
          ]
        }
      ],
      "source": [
        "a = 5\n",
        "b = 10\n",
        "c = 20\n",
        "# Multiples condiciones se unen por medio del operador \"and\"\n",
        "\n",
        "if a>b and a>c:\n",
        "    print('a es el mayor')\n",
        "elif b>a and b>c:\n",
        "    print('b es el mayor')\n",
        "elif c>a and c>b:\n",
        "    print('c es el mayor')\n",
        "else:\n",
        "    print('Hay un empate entre algunas de las variables')\n",
        "\n",
        "# En este caso, la declaración solo regresará True, si ambas condiciones se cumplen.\n",
        "# Entonces todas las lineas de dentro del operador seran ejecutadas."
      ]
    },
    {
      "cell_type": "markdown",
      "metadata": {
        "id": "ior6qihiaEeX"
      },
      "source": [
        "### Declaraciones condicionales anidadas\n",
        "\n",
        "**Un ejemplo sencillo de IF ELSE anidado para comprobar el mayor de dos números**"
      ]
    },
    {
      "cell_type": "code",
      "execution_count": null,
      "metadata": {
        "id": "rJ1IBxZuaEeX",
        "outputId": "79cfddad-f038-47c3-fd98-004bd2dedd65"
      },
      "outputs": [
        {
          "name": "stdout",
          "output_type": "stream",
          "text": [
            "b is greater\n"
          ]
        }
      ],
      "source": [
        "a = 10\n",
        "b = 20\n",
        "\n",
        "if a!=b:\n",
        "    if a>b:\n",
        "        print(\"a es mayor\")\n",
        "    else:\n",
        "        print(\"b es mayor\")\n",
        "else:\n",
        "    print(\" a y b sin iguales\")"
      ]
    },
    {
      "cell_type": "markdown",
      "metadata": {
        "id": "-p9cuPoPaEeY"
      },
      "source": [
        "**Una mejora con respecto al código anterior podría ser solicitar a los usuarios que ingresen dos números.**"
      ]
    },
    {
      "cell_type": "code",
      "execution_count": null,
      "metadata": {
        "id": "eSwVbdA7aEeY",
        "outputId": "85f345bd-a6c1-4490-eacf-07e8cbe1cff4"
      },
      "outputs": [
        {
          "name": "stdout",
          "output_type": "stream",
          "text": [
            "Please enter value for a: 1\n",
            "Please enter value for b: 2\n",
            "b is greater\n"
          ]
        }
      ],
      "source": [
        "a = int(input(\"Por favor introduzca valor para a: \"))\n",
        "b = int(input(\"Por favor introduzca valor para b: \"))\n",
        "\n",
        "if a!=b:\n",
        "    if a>b:\n",
        "        print(\"a es mayor\")\n",
        "    else:\n",
        "        print(\"b es mayor\")\n",
        "else:\n",
        "    print(\" a y b sin iguales\")"
      ]
    },
    {
      "cell_type": "markdown",
      "metadata": {
        "id": "66eKKkinaEeZ"
      },
      "source": [
        "**En el caso anterior asumimos que el usuario ingresará la entrada correcta, es decir, no ingresará palabras, alfabetos o caracteres especiales por error**\n",
        "Ahora mejoraremos este código (lo haremos más robusto). Le pediremos al usuario que ingrese dos números.  \n",
        "Luego verificaríamos si la entrada es realmente un número y solo entonces usaríamos el operador de comparación."
      ]
    },
    {
      "cell_type": "code",
      "execution_count": null,
      "metadata": {
        "id": "wOWMmQWraEeZ",
        "outputId": "f3a50020-aeec-4045-c9da-3a687a9726c7"
      },
      "outputs": [
        {
          "name": "stdout",
          "output_type": "stream",
          "text": [
            "Enter a number: 1\n",
            "Enter the second number: 2\n",
            "b is greater\n"
          ]
        }
      ],
      "source": [
        "a = input(\"Introduzca un número: \")\n",
        "b = input(\"Introduzca un segundo número: \")\n",
        "\n",
        "if a.replace('.','',1).isdigit() and b.replace('.','',1).isdigit():  # Checamos si el string es un numero o no\n",
        "    a = float(a)         # Convertimos a float\n",
        "    b = float(b)         # Convertimos a float\n",
        "\n",
        "    if a!=b:             # Condiciones IF anidadas\n",
        "        if a > b:\n",
        "            print('a es mayor')\n",
        "        else:\n",
        "            print('b es mayor')\n",
        "    else:\n",
        "        print(\"a y b sin iguales\")\n",
        "else:\n",
        "    print(\"No se introdujeron enteros\")"
      ]
    }
  ],
  "metadata": {
    "kernelspec": {
      "display_name": "Python 3",
      "language": "python",
      "name": "python3"
    },
    "language_info": {
      "codemirror_mode": {
        "name": "ipython",
        "version": 3
      },
      "file_extension": ".py",
      "mimetype": "text/x-python",
      "name": "python",
      "nbconvert_exporter": "python",
      "pygments_lexer": "ipython3",
      "version": "3.7.3"
    },
    "colab": {
      "provenance": []
    }
  },
  "nbformat": 4,
  "nbformat_minor": 0
}