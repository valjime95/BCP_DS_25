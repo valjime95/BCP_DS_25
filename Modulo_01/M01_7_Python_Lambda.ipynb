{
  "cells": [
    {
      "cell_type": "markdown",
      "metadata": {
        "id": "q3kgdiQRs1rx"
      },
      "source": [
        "# Funciones Lambda\n",
        "\n",
        "Objetivos de la lección\n",
        "\n",
        "En esta lección, aprenderá todo sobre las funciones lambda (o anónimas) y cómo se utilizan en Python.\n",
        "Introducción\n",
        "\n",
        "Las funciones lambda también se denominan funciones anónimas. Esto significa que son funciones sin nombre. Las funciones lambda suelen ser expresiones cortas. Pueden aceptar múltiples argumentos, pero a diferencia de las funciones, solo pueden tener una expresión.\n",
        "Definición de una función lambda\n",
        "\n",
        "En su mayor parte, cualquier expresión lambda también se puede escribir como una función (pero no al revés). Al escribir una lambda, normalmente utilizamos la sintaxis de declarar una lambda y luego enumerar las entradas de la lambda seguidas de dos puntos y luego la expresión.\n",
        "\n",
        "Veamos un ejemplo de una función lambda y una función equivalente en Python a continuación."
      ]
    },
    {
      "cell_type": "code",
      "execution_count": null,
      "metadata": {
        "id": "YV8wmqKas1rz",
        "outputId": "8d4b36f6-092d-4f50-de09-6f33d6f00cdf"
      },
      "outputs": [
        {
          "name": "stdout",
          "output_type": "stream",
          "text": [
            "25\n",
            "25\n"
          ]
        }
      ],
      "source": [
        "# A continuación se muestra una función lambda que toma un número y devuelve su cuadrado.\n",
        "square = lambda x: x * x\n",
        "\n",
        "# Aquí tenemos una función que devuelve el mismo resultado que la función lambda\n",
        "def square_function(x):\n",
        "    return x * x\n",
        "\n",
        "print (square(5))\n",
        "print (square_function(5))"
      ]
    },
    {
      "cell_type": "markdown",
      "metadata": {
        "id": "Y41IKmOss1r1"
      },
      "source": [
        "También podemos pasar múltiples argumentos a nuestra función lambda."
      ]
    },
    {
      "cell_type": "code",
      "execution_count": null,
      "metadata": {
        "id": "02bP6NYzs1r1",
        "outputId": "06cd95a2-4e49-4c58-c538-444228c8d389"
      },
      "outputs": [
        {
          "data": {
            "text/plain": [
              "11"
            ]
          },
          "execution_count": 2,
          "metadata": {},
          "output_type": "execute_result"
        }
      ],
      "source": [
        "summarize = lambda a, b: a + b\n",
        "\n",
        "summarize(5, 6)"
      ]
    },
    {
      "cell_type": "markdown",
      "metadata": {
        "id": "gEIYjVbws1r2"
      },
      "source": [
        "# Declaraciones If en funciones Lambda\n",
        "\n",
        "Las declaraciones If tienen una sintaxis ligeramente diferente en una expresión Lambda. A continuación, se muestra un ejemplo de una expresión Lambda que calcula la fracción de dos números a menos que el denominador sea cero."
      ]
    },
    {
      "cell_type": "code",
      "execution_count": null,
      "metadata": {
        "id": "F-jjJzjOs1r2",
        "outputId": "247e2fc4-fd7c-4846-d25d-17e19db3a06a"
      },
      "outputs": [
        {
          "name": "stdout",
          "output_type": "stream",
          "text": [
            "0.5\n",
            "0\n"
          ]
        }
      ],
      "source": [
        "div = lambda num, denom: num / denom if (denom != 0) else 0\n",
        "\n",
        "print (div(5, 10))\n",
        "\n",
        "print (div(10, 0))"
      ]
    },
    {
      "cell_type": "markdown",
      "metadata": {
        "id": "GJKb-aqss1r3"
      },
      "source": [
        "Como podemos ver en la función lambda anterior, especificamos el if después de especificar la acción. Tampoco usamos dos puntos en la declaración if.\n",
        "\n",
        "# Lambdas en la declaración de retorno de una función\n",
        "\n",
        "Podemos usar expresiones lambda para devolver una función desde una función. Aquí hay un ejemplo:"
      ]
    },
    {
      "cell_type": "code",
      "execution_count": null,
      "metadata": {
        "id": "D7QXxs68s1r3",
        "outputId": "c3cf5ab4-3ff7-4482-d502-93c91073e4ff"
      },
      "outputs": [
        {
          "name": "stdout",
          "output_type": "stream",
          "text": [
            "range(0, 10)\n",
            "[0, 1, 2, 3, 4, 5, 6, 7, 8, 9]\n",
            "[0, 1, 2, 3, 4]\n"
          ]
        }
      ],
      "source": [
        "def generate_range(lower):\n",
        "    return lambda upper: range(lower, upper)\n",
        "\n",
        "custom_range = generate_range(0)\n",
        "\n",
        "\n",
        "\n",
        "print (custom_range(10))\n",
        "print ([x for x in custom_range(10)])\n",
        "print ([x for x in custom_range(5)])"
      ]
    },
    {
      "cell_type": "markdown",
      "metadata": {
        "id": "6DapHo09s1r3"
      },
      "source": [
        "# Lambdas en listas por comprensión\n",
        "\n",
        "Las expresiones lambda son excelentes cuando queremos generar una lista de manera rápida y concisa. Podemos aplicar la expresión lambda a cada elemento de la lista y generar una nueva lista.\n",
        "\n",
        "A continuación, se muestra un ejemplo de cómo generar los cuadrados de todos los números del 1 al 10. Generamos los números utilizando la función de rango y los elevamos al cuadrado utilizando una expresión lambda."
      ]
    },
    {
      "cell_type": "code",
      "execution_count": null,
      "metadata": {
        "id": "Rxi9gUbDs1r4",
        "outputId": "5a9da625-d8dd-4907-9054-3e8bafe528bd"
      },
      "outputs": [
        {
          "name": "stdout",
          "output_type": "stream",
          "text": [
            "[1, 4, 9, 16, 25, 36, 49, 64, 81]\n"
          ]
        }
      ],
      "source": [
        "square = lambda x: x * x\n",
        "squared = [square(x) for x in range(1, 10)]\n",
        "\n",
        "print(squared)"
      ]
    },
    {
      "cell_type": "markdown",
      "metadata": {
        "id": "86tORDDss1r4"
      },
      "source": [
        "También podemos utilizar funciones lambda para transformar listas existentes. Aquí reemplazamos un guion por un espacio en una lista de materias escolares."
      ]
    },
    {
      "cell_type": "code",
      "execution_count": null,
      "metadata": {
        "id": "ADkBDC9Ls1r4",
        "outputId": "fca6f8e9-e876-4b81-b5cb-cc05ddaeb9d7"
      },
      "outputs": [
        {
          "name": "stdout",
          "output_type": "stream",
          "text": [
            "['Calculus', 'Philosophy', 'Art History', 'Computer Science']\n"
          ]
        }
      ],
      "source": [
        "school_dash = ['Calculus', 'Philosophy', 'Art-History', 'Computer-Science']\n",
        "\n",
        "school_space = [(lambda x: x.replace('-', ' '))(x) for x in school_dash]\n",
        "\n",
        "print(school_space)"
      ]
    },
    {
      "cell_type": "markdown",
      "metadata": {
        "id": "Xc3nHa2Ws1r5"
      },
      "source": [
        "# Las funciones lambda como argumentos en funciones\n",
        "\n",
        "Las funciones lambda realmente se destacan como argumentos en funciones. Un ejemplo es la ordenación. Normalmente, solo ordenamos utilizando las opciones predeterminadas en Python. Sin embargo, podemos definir nuestra propia expresión lambda de ordenación personalizada y pasarla como argumento a la función de ordenación.\n",
        "\n",
        "En el siguiente ejemplo, ordenaremos por la última letra de la materia escolar. Primero crearemos una función lambda que devuelva la última letra de la cadena y luego ordenaremos utilizando esta función como clave de ordenación."
      ]
    },
    {
      "cell_type": "code",
      "execution_count": null,
      "metadata": {
        "id": "cpzff53Ws1r5",
        "outputId": "ba20b707-0aee-49e8-b458-fa1cb7ab3e58"
      },
      "outputs": [
        {
          "data": {
            "text/plain": [
              "['Computer Science', 'Calculus', 'Philosophy', 'Art History']"
            ]
          },
          "execution_count": 7,
          "metadata": {},
          "output_type": "execute_result"
        }
      ],
      "source": [
        "last = lambda x: x[-1]\n",
        "\n",
        "sorted(school_space, key=last)"
      ]
    },
    {
      "cell_type": "markdown",
      "metadata": {
        "id": "utYUu-lus1r5"
      },
      "source": [
        "Como podemos ver, hemos ordenado por la última letra de cada cadena.\n",
        "Ventajas y desventajas de las funciones Lambda\n",
        "\n",
        "Las funciones Lambda tienen varias ventajas, pero también algunas desventajas.\n",
        "\n",
        "Ventajas:\n",
        "\n",
        "    Las funciones Lambda son concisas, ya que solo contienen una expresión.\n",
        "    Las funciones Lambda se pueden pasar sin una variable (de ahí que se consideren anónimas).\n",
        "    Las funciones Lambda se devuelven automáticamente.\n",
        "\n",
        "Desventajas:\n",
        "\n",
        "    A veces, las funciones Lambda pueden complicarse demasiado y sería mejor utilizar una función normal en su lugar. En particular, cuando la expresión es compleja y puede resultar beneficiosa si se separa en varias líneas.\n",
        "    Utilizan una sintaxis diferente (por ejemplo, las declaraciones if tienen una sintaxis diferente en las funciones Lambda)."
      ]
    },
    {
      "cell_type": "code",
      "execution_count": null,
      "metadata": {
        "id": "MElLjgt6s1r5"
      },
      "outputs": [],
      "source": []
    }
  ],
  "metadata": {
    "kernelspec": {
      "display_name": "Python 3",
      "language": "python",
      "name": "python3"
    },
    "language_info": {
      "codemirror_mode": {
        "name": "ipython",
        "version": 3
      },
      "file_extension": ".py",
      "mimetype": "text/x-python",
      "name": "python",
      "nbconvert_exporter": "python",
      "pygments_lexer": "ipython3",
      "version": "3.7.2"
    },
    "colab": {
      "provenance": []
    }
  },
  "nbformat": 4,
  "nbformat_minor": 0
}