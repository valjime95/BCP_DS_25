{
  "cells": [
    {
      "cell_type": "markdown",
      "metadata": {
        "id": "KrahGtLGD6ON"
      },
      "source": [
        "## Iteraciones\n",
        "\n",
        "Las iteraciones se utilizan para ejecutar un bloque de código repetidamente. Python proporciona **BUCLES FOR** y **BUCLES WHILE** para\n",
        "realizar iteraciones.\n",
        "En esta lección hablaremos sobre los **BUCLES FOR** y tocaremos brevemente los **BUCLES WHILE**.\n",
        "\n",
        "**¡IMPORTANTE!**\n",
        "\n",
        "¿Cuándo debemos utilizar el **BUCLE FOR** y cuándo el **BUCLE WHILE**?\n",
        "La *regla general* depende de la cantidad de repeticiones:\n",
        "\n",
        "* Si sabes cuántas veces (sin importar cuántas) quieres repetir tu código, **UTILIZA UN BUCLE FOOR**\n",
        "* Si la cantidad de veces que quieres repetir tu código no es fija y se basa en una condición, **UTILIZA UN BUCLE WHILE**\n",
        "\n",
        "Un par de ejemplos aclararán esta distinción.\n",
        "\n",
        "¿Recuerdas los tiempos escolares cuando a alguien se le castigaba por escribir 500 veces: \"Prestaré atención a las lecciones del maestro\"? En este caso, ya sabes de antemano cuántas veces tiene que escribir el alumno la frase (500). Por lo tanto, deberías utilizar un **BUCLE FOR**\n",
        "\n",
        "Por otro lado, imagina que te estás preparando para un examen. ¿Cuánto tiempo deberías estar estudiando la lección? No lo sabes de antemano, estudiarás hasta que domines la lección. Entonces, en este caso, no sabes cuánto tiempo necesitarás para repasar la lección una y otra vez. Tienes un condicionamiento de parada que es: \"dominar la lección\". Por lo tanto, deberías **UTILIZAR UN BUCLE WHILE**."
      ]
    },
    {
      "cell_type": "markdown",
      "metadata": {
        "id": "0lczJjE_D6OT"
      },
      "source": [
        "**Esta es la sintaxis general del bucle FOR en Python:**"
      ]
    },
    {
      "cell_type": "markdown",
      "metadata": {
        "id": "LeRhuLyiD6OT"
      },
      "source": [
        "```python\n",
        "for <variable> in <iterable>:\n",
        "    <statement>\n",
        "    <statement>\n",
        "    <statement>\n",
        "```"
      ]
    },
    {
      "cell_type": "markdown",
      "metadata": {
        "id": "P7_PLn1xD6OU"
      },
      "source": [
        "Preste atención a un par de cosas aquí.\n",
        "- Primero, el `:` después de `<iterable>`, ya que esto indica un punto de entrada de un \"bloque\" de instrucciones (puede haber tantos como bloques de \"instrucciones\" necesite). Este \"bloque\" contiene las instrucciones que desea repetir que se muestran como `<statement>`.\n",
        "- El segundo es que `<statement>` **no está alineado a la izquierda**. Como puede ver, están un poco desplazados hacia la derecha, y esto lo hace automáticamente el cuaderno Jupyter o la colaboración de Google.\n",
        "\n",
        "En el **BUCLE FOR**, puede reemplazar `<variable>` con una variable que desee usar (normalmente cualquier variable que no haya usado antes en el código; de lo contrario, sobrescribirá el contenido de la variable). Por otro lado, `<iterable>` es normalmente una secuencia de elementos como una lista.\n",
        "\n",
        "En un **BUCLE FOR**, el valor de la `<variable>` será reemplazado por cada uno de los elementos del `<iterable>` hasta que se utilicen todos los valores almacenados en el `<iterable>`.\n",
        "En resumen, el primer contenido de `<variable>` será reemplazado por el valor del primer elemento del `<iterable>`. Luego, Python ejecutará todas las sentencias dentro del \"bloque\". A continuación, el contenido de la `<variable>` será reemplazado por el siguiente valor del `<iterable>` y se ejecutarán nuevamente todas las sentencias que se encuentren debajo. Este proceso se repetirá hasta que la `<variable>` haya sido reemplazada por todos los valores contenidos en el `<iterable>`. Por lo tanto, las sentencias bajo el **BUCLE FOR** se repetirán tantas veces como elementos contenga el `<iterable>`**.\n",
        "\n",
        "Por lo tanto, si el `<iterable>` contiene cinco elementos, entonces las sentencias debajo del **BUCLE FOR** se repetirán cinco veces. Si el `<iterable>` tiene siete elementos, entonces las instrucciones debajo del **BUCLE FOR** se repetirán siete veces y así sucesivamente. Por eso usarás un **BUCLE FOR** cuando sepas de antemano la cantidad de veces que quieres repetir un fragmento de código.**"
      ]
    },
    {
      "cell_type": "code",
      "execution_count": null,
      "metadata": {
        "id": "i8vxoc4pD6OV",
        "outputId": "ce79201d-5b64-4088-cc3b-fbd8c23a5883"
      },
      "outputs": [
        {
          "name": "stdout",
          "output_type": "stream",
          "text": [
            "0\n",
            "hello\n",
            "1\n",
            "hello\n",
            "2\n",
            "hello\n",
            "3\n",
            "hello\n",
            "4\n",
            "hello\n",
            "5\n",
            "hello\n",
            "6\n",
            "hello\n",
            "7\n",
            "hello\n",
            "8\n",
            "hello\n",
            "9\n",
            "hello\n"
          ]
        }
      ],
      "source": [
        "# Estamos usando la función de rango para ejecutar el bloque de instrucciones (aquí solo un comando de impresión) 10 veces\n",
        "# Al igual que las instrucciones condicionales IF ELIF ELSE, se ejecutan todas las líneas de código con la misma sangría\n",
        "\n",
        "for i in range(10):\n",
        "    print(i)\n",
        "    print('hello')\n",
        "    # dummy line 1  # Líneas de código con la misma sangría.\n",
        "    # dummy line 2\n",
        "    # .\n",
        "    #..\n",
        "    # ..."
      ]
    },
    {
      "cell_type": "markdown",
      "metadata": {
        "id": "pO4Fi5uPD6OX"
      },
      "source": [
        "**Aquí veremos cómo cambia el valor de \"i\" cuando utilizamos la función `range()`.**\n",
        "Por defecto, los valores se generan comenzando con 0 y hasta que uno sea menor que el valor mencionado en la función range().\n",
        "En este caso, de 0 a 9."
      ]
    },
    {
      "cell_type": "code",
      "execution_count": null,
      "metadata": {
        "id": "qcU1NWarD6OY",
        "outputId": "69003652-5770-4e33-e101-b973815078fe"
      },
      "outputs": [
        {
          "name": "stdout",
          "output_type": "stream",
          "text": [
            "0\n",
            "1\n",
            "2\n",
            "3\n",
            "4\n",
            "5\n",
            "6\n",
            "7\n",
            "8\n",
            "9\n"
          ]
        }
      ],
      "source": [
        "# \"i\" es la variable aquí. Toma valores de la función range() de 0 a 9, iterativamente.\n",
        "for i in range(10):\n",
        "    print(i)"
      ]
    },
    {
      "cell_type": "markdown",
      "metadata": {
        "id": "ABQhi8ZqD6OZ"
      },
      "source": [
        "En el siguiente ejemplo, utilizaremos la **declaración condicional** en el bucle **for** para imprimir solo los números pares."
      ]
    },
    {
      "cell_type": "code",
      "execution_count": null,
      "metadata": {
        "id": "ZFKzPYeLD6OZ",
        "outputId": "904f2c3f-b118-4dea-f69d-947a09253540"
      },
      "outputs": [
        {
          "name": "stdout",
          "output_type": "stream",
          "text": [
            "0\n",
            "2\n",
            "4\n",
            "6\n",
            "8\n"
          ]
        }
      ],
      "source": [
        "for i in range(10):\n",
        "    if i%2==0:\n",
        "        print(i)"
      ]
    },
    {
      "cell_type": "markdown",
      "metadata": {
        "id": "d8IHtPpKD6OZ"
      },
      "source": [
        "Preste atención al flujo del código y la sangría. La condición `IF` se ejecuta 10 veces, pero \"i\" solo se imprime cuando se cumple la condición porque está contenida dentro de la declaración `IF`.\n",
        "\n",
        "Cuando usamos la función `range` anteriormente, mencionamos que los valores se generan a partir de 0.\n",
        "Sin embargo, la función `range` también se puede usar de un par de maneras más. Observe los resultados en el siguiente código:"
      ]
    },
    {
      "cell_type": "code",
      "execution_count": null,
      "metadata": {
        "id": "OZAyTqUsD6Oa",
        "outputId": "961ba860-092c-4f51-ab56-d4491ccfb90c"
      },
      "outputs": [
        {
          "name": "stdout",
          "output_type": "stream",
          "text": [
            "3\n",
            "4\n",
            "5\n",
            "6\n",
            "7\n",
            "8\n",
            "9\n"
          ]
        }
      ],
      "source": [
        "for i in range(3, 10):  # En este caso la iteración comienza en 3 hasta 9\n",
        "    print(i)"
      ]
    },
    {
      "cell_type": "code",
      "execution_count": null,
      "metadata": {
        "id": "jIoQodrGD6Oa",
        "outputId": "091c23e2-40f5-4363-c27e-d8b2fb3a71d3"
      },
      "outputs": [
        {
          "name": "stdout",
          "output_type": "stream",
          "text": [
            "0\n",
            "2\n",
            "4\n",
            "6\n",
            "8\n"
          ]
        }
      ],
      "source": [
        "for i in range(0, 10, 2):  # En este caso, la iteración comienza en 0 hasta 9 en pasos de 2\n",
        "    print(i)"
      ]
    },
    {
      "cell_type": "markdown",
      "metadata": {
        "id": "Oboxz4yfD6Ob"
      },
      "source": [
        "En este ejemplo, incrementaremos el valor de la variable `a` con una constante en cada iteración.\n",
        "Luego, imprimiremos los valores de `a` en cada iteración. Al final, imprimiremos el valor final de `a` después de que finalice el bucle `for`."
      ]
    },
    {
      "cell_type": "code",
      "execution_count": null,
      "metadata": {
        "id": "KoLnYaUJD6Ob",
        "outputId": "c86cf363-fc3c-4f45-d532-b6b216426502"
      },
      "outputs": [
        {
          "name": "stdout",
          "output_type": "stream",
          "text": [
            "Value of a at step 0 is 5\n",
            "Value of a at step 1 is 10\n",
            "Value of a at step 2 is 15\n",
            "Value of a at step 3 is 20\n",
            "Value of a at step 4 is 25\n",
            "Value of a at step 5 is 30\n",
            "Value of a at step 6 is 35\n",
            "Value of a at step 7 is 40\n",
            "Value of a at step 8 is 45\n",
            "Value of a at step 9 is 50\n",
            "This is the final value of a 50\n"
          ]
        }
      ],
      "source": [
        "a = 0\n",
        "constant = 5\n",
        "for i in range(10):\n",
        "    a = a + constant\n",
        "    print(f\"El valor del paso {i} es {a}\")\n",
        "print(f\"Este es el valor final de la variable a: {}\")"
      ]
    },
    {
      "cell_type": "markdown",
      "metadata": {
        "id": "uYpFsglHD6Ob"
      },
      "source": [
        "-----------------------------"
      ]
    },
    {
      "cell_type": "markdown",
      "metadata": {
        "id": "yJi3MwNHD6Oe"
      },
      "source": [
        "### Iterating on Lists\n",
        "\n",
        "We talked about lists and dictionaries before. You can also iterate the items of a list or a dictionary.   \n",
        "Find below some examples of its implementation."
      ]
    },
    {
      "cell_type": "markdown",
      "metadata": {
        "id": "KTUlDY0WD6Oe"
      },
      "source": [
        "### Iteración de listas\n",
        "\n",
        "Ya hemos hablado de listas y diccionarios. También puedes iterar los elementos de una lista o un diccionario.\n",
        "A continuación, encontrarás algunos ejemplos de su implementación.\n",
        "\n",
        "Aquí tenemos una lista con algunos valores enteros. Usaremos el operador `IN` para iterar sobre los valores.\n",
        "\n",
        "La variable `item` toma los valores de la lista comenzando con el índice 0 hasta la longitud de la lista:"
      ]
    },
    {
      "cell_type": "code",
      "execution_count": null,
      "metadata": {
        "id": "OgLLWFUpD6Oe",
        "outputId": "6fbaa94f-1457-4a61-8847-1e42013b8ad4"
      },
      "outputs": [
        {
          "name": "stdout",
          "output_type": "stream",
          "text": [
            "12\n",
            "43\n",
            "4\n",
            "1\n",
            "6\n",
            "343\n",
            "10\n"
          ]
        }
      ],
      "source": [
        "x = [12, 43, 4, 1, 6, 343, 10]\n",
        "for item in x:\n",
        "    print(item)"
      ]
    },
    {
      "cell_type": "markdown",
      "metadata": {
        "id": "RjYx4YzuD6Oe"
      },
      "source": [
        "Podemos iterar sobre los elementos de la lista, independientemente del tipo de datos. A continuación se muestra un ejemplo:"
      ]
    },
    {
      "cell_type": "code",
      "execution_count": null,
      "metadata": {
        "id": "hSmTp7Y0D6Oe",
        "outputId": "283ad93c-1506-41cc-cf0e-6f275df30c93"
      },
      "outputs": [
        {
          "name": "stdout",
          "output_type": "stream",
          "text": [
            "apple\n",
            "orange\n",
            "banana\n",
            "grapes\n",
            "pineapple\n"
          ]
        }
      ],
      "source": [
        "fruits = ['apple', 'orange', 'banana', 'grapes', 'pineapple']\n",
        "for fruit in fruits:\n",
        "    print(fruit)"
      ]
    },
    {
      "cell_type": "markdown",
      "metadata": {
        "id": "3TpGHrEfD6Of"
      },
      "source": [
        "A continuación se muestra un ejemplo sencillo para agregar los elementos de una lista. Lo hacemos en varios pasos.\n",
        "\n",
        "1. Definimos la lista.\n",
        "2. Definimos la variable `total` para almacenar la suma de todos los elementos de la lista.\n",
        "3. Como sabemos cuántos elementos queremos agregar, utilizamos un **BUCLE FOR** para recorrer todos los elementos de la lista.\n",
        "4. Actualizamos el valor de la variable `total`."
      ]
    },
    {
      "cell_type": "code",
      "execution_count": null,
      "metadata": {
        "id": "roZdRBGLD6Of"
      },
      "outputs": [],
      "source": [
        "num_list = [34, 12, 93, 783, 330, 896, 1, 55]\n",
        "total = 0\n",
        "\n",
        "for i in num_list:\n",
        "    total += i  # total = total + i\n",
        "    print(\"Total at step\",i, \"is\", total)\n",
        "\n",
        "print('\\n')  # to add an empty line (this is new line operator, it moves the cursor to the next line)\n",
        "print(\"The final total is \", total)"
      ]
    },
    {
      "cell_type": "markdown",
      "metadata": {
        "id": "0TJ0VvdwD6Of"
      },
      "source": [
        "### Agregar elementos a una lista vacía\n",
        "\n",
        "En el siguiente ejemplo, mostraremos cómo definir una lista vacía y agregarle elementos mediante iteraciones.\n",
        "\n",
        "**El enunciado del problema es:** Se nos proporciona una lista con algunos elementos enteros. Queremos crear una nueva lista que consistirá en los cuadrados de cada elemento de la lista.\n",
        "\n",
        "Para este propósito, podemos usar la función `append()` que solo funciona cuando se aplica a una lista. Puede agregar cualquier tipo de elemento al final de una lista determinada."
      ]
    },
    {
      "cell_type": "code",
      "execution_count": null,
      "metadata": {
        "id": "9O_m6OLND6Of"
      },
      "outputs": [],
      "source": [
        "data = [1, 2, 3, 4, 5, 6, 7, 8, 9, 10]\n",
        "new_list = [] # Defining an empty list\n",
        "\n",
        "for item in data:\n",
        "    new_list.append(item**2)  # at each iteration, square for the value is calculated and appended to the list\n",
        "print(new_list)"
      ]
    },
    {
      "cell_type": "markdown",
      "metadata": {
        "id": "sfloBTNND6Of"
      },
      "source": [
        "-----------------------------"
      ]
    },
    {
      "cell_type": "markdown",
      "metadata": {
        "id": "m5U0Px-2D6Og"
      },
      "source": [
        "### Iteración en diccionarios\n",
        "\n",
        "De manera similar, también podemos iterar en los elementos de un diccionario. A continuación se muestra un ejemplo simple:"
      ]
    },
    {
      "cell_type": "code",
      "execution_count": null,
      "metadata": {
        "id": "fTjIHIk_D6Oh"
      },
      "outputs": [],
      "source": [
        "x = {'key1': 100 , 'key2': 200 , 'key3': 300}"
      ]
    },
    {
      "cell_type": "markdown",
      "metadata": {
        "id": "_uddF6Vrnt-M"
      },
      "source": [
        "Podemos aplicar la función `.keys()` sobre un diccionario para obtener un `<iterable>` que podemos usar en un bucle for para obtener todas las claves."
      ]
    },
    {
      "cell_type": "code",
      "execution_count": null,
      "metadata": {
        "id": "G2SyxXhxD6Oh",
        "outputId": "57b01699-9206-472a-d7bd-e4d7a6f912bf"
      },
      "outputs": [
        {
          "name": "stdout",
          "output_type": "stream",
          "text": [
            "key1\n",
            "key2\n",
            "key3\n"
          ]
        }
      ],
      "source": [
        "for key in x.keys():\n",
        "    print(key)"
      ]
    },
    {
      "cell_type": "markdown",
      "metadata": {
        "id": "WtceUnfID6Oh"
      },
      "source": [
        "De manera similar, cuando aplicamos la función `.values()` sobre un diccionario para obtener un `<iterable>` que podemos usar en un bucle for."
      ]
    },
    {
      "cell_type": "code",
      "execution_count": null,
      "metadata": {
        "id": "QmemmBirD6Oh",
        "outputId": "2b29c7e7-c69d-4b30-ca14-91a9231924a2"
      },
      "outputs": [
        {
          "name": "stdout",
          "output_type": "stream",
          "text": [
            "100\n",
            "200\n",
            "300\n"
          ]
        }
      ],
      "source": [
        "for value in x.values():\n",
        "    print(value)"
      ]
    },
    {
      "cell_type": "markdown",
      "metadata": {
        "id": "cT4oqiAPnt-N"
      },
      "source": [
        "Finalmente, también podemos aplicar la función `.items()` sobre un diccionario para obtener un `<iterable>` de todos los pares `clave, valor` en un diccionario."
      ]
    },
    {
      "cell_type": "code",
      "execution_count": null,
      "metadata": {
        "id": "TGbVZ5UHD6Oi",
        "outputId": "2b27b9eb-e6f5-4b5a-b489-b3666a45c836",
        "scrolled": true
      },
      "outputs": [
        {
          "name": "stdout",
          "output_type": "stream",
          "text": [
            "For  key1  the value is:  100\n",
            "For  key2  the value is:  200\n",
            "For  key3  the value is:  300\n"
          ]
        }
      ],
      "source": [
        "for key, value in x.items():\n",
        "    print(\"For \", key, \" the value is: \", value)"
      ]
    },
    {
      "cell_type": "markdown",
      "metadata": {
        "id": "ocK9Yp_kD6Oi"
      },
      "source": [
        "Es importante prestar atención al orden. Cuando usamos `.items()` el primer valor es la `clave`, y el segundo es el `valor` asociado a la `clave`. No importan los nombres que usemos en las variables del bucle. A continuación se proporciona otro ejemplo."
      ]
    },
    {
      "cell_type": "code",
      "execution_count": null,
      "metadata": {
        "id": "0WySk-qBD6Oi",
        "outputId": "5d9fe5e5-d80d-4c60-80f5-18d5316a2170"
      },
      "outputs": [
        {
          "name": "stdout",
          "output_type": "stream",
          "text": [
            "Brian is 23 years old.\n",
            "Amy is 22 years old.\n",
            "Darlene is 47 years old.\n",
            "Ralph is 32 years old.\n",
            "Jordan is 28 years old.\n",
            "Stephanie is 35 years old.\n"
          ]
        }
      ],
      "source": [
        "ages = {'Brian':23, 'Amy':22, 'Darlene':47, 'Ralph':32, 'Jordan':28, 'Stephanie':35}\n",
        "\n",
        "for name, age in ages.items():\n",
        "    print(name, \"is\", age, \"years old.\")"
      ]
    },
    {
      "cell_type": "markdown",
      "metadata": {
        "id": "TfF5vLsSD6Oi"
      },
      "source": [
        "**Nota:** Los diccionarios permiten agrupar varias variables. Son especialmente adecuados para contar distintas cosas, ya que se puede configurar cada contador como una **clave** y el recuento como el **valor** correspondiente."
      ]
    },
    {
      "cell_type": "markdown",
      "metadata": {
        "id": "GNofUsKwD6Oj"
      },
      "source": [
        "## Bucles While\n",
        "\n",
        "El bucle While ejecuta un bloque de instrucciones **hasta que una condición sea verdadera**. Tan pronto como la condición sea falsa, el flujo del código sale del bucle While y comienza a ejecutar el código después del bucle While.\n",
        "\n",
        "**¡¡¡CUIDADO!!!** Debe asegurarse de que la condición del **BUCLE WHILE** cambie tarde o temprano, ya que de lo contrario el código Python nunca terminará.\n",
        "\n",
        "La estructura general de un bucle While es:"
      ]
    },
    {
      "cell_type": "markdown",
      "metadata": {
        "id": "WH4FR9qGD6Oj"
      },
      "source": [
        "```\n",
        "while <condition>:\n",
        "    <statement>\n",
        "    <statement>\n",
        "    <statement>\n",
        "```"
      ]
    },
    {
      "cell_type": "markdown",
      "metadata": {
        "id": "tQWD_j80D6Ok"
      },
      "source": [
        "donde:\n",
        "- `<condición>` es cualquier condición lógica de Python y\n",
        "- `<declaración>` es cualquier instrucción de Python que desee repetir mientras `<condición>` sea verdadera."
      ]
    },
    {
      "cell_type": "markdown",
      "metadata": {
        "id": "YnjSUUaCD6Ok"
      },
      "source": [
        "De manera similar al **BUCLE FOR**, hay un par de cosas a las que vale la pena prestar atención aquí.\n",
        "\n",
        "Primero, el `:` después de `<condición>`, ya que esto indica un punto de entrada de un \"bloque\" de instrucciones (puede contener tantas como desee). Este \"bloque\" contiene las instrucciones que desea repetir, que se muestran como `<declaración>`.\n",
        "\n",
        "La segunda es que las `<declaración>` **no están alineadas a la izquierda**. Como puede ver, están un poco desplazadas hacia la derecha y esto lo hace automáticamente el cuaderno Jupyter o Google Colab."
      ]
    },
    {
      "cell_type": "markdown",
      "metadata": {
        "id": "ubHvOoQ1nt-Q"
      },
      "source": [
        "Un ejemplo ilustrará cómo funciona el bucle 'while'."
      ]
    },
    {
      "cell_type": "code",
      "execution_count": null,
      "metadata": {
        "id": "1ek9ln3iD6Ok"
      },
      "outputs": [],
      "source": [
        "i = 0\n",
        "while i<10:\n",
        "    print(\"Hello\")\n",
        "    print(i)\n",
        "    i = i+1 # actualizamos el valor de i dependiendo de cuantas veces o como queremos que funcione el bucle while"
      ]
    },
    {
      "cell_type": "markdown",
      "metadata": {
        "id": "C1WrfMEZD6Ok"
      },
      "source": [
        "En el ejemplo proporcionado, inicializamos una variable `i` que usamos más adelante en la `<condición>` (i < 10, en el ejemplo) del bucle `WHILE` para controlar cuántas veces queremos repetir las instrucciones dentro del bucle.\n",
        "\n",
        "**Tenga en cuenta** que debemos cambiar el valor de la variable `i` dentro del bucle while, ya que de lo contrario el bucle nunca terminará, ya que `i<10` siempre será verdadero."
      ]
    },
    {
      "cell_type": "markdown",
      "metadata": {
        "id": "thWDEbVynt-R"
      },
      "source": [
        "Podemos modificar el valor de la variable `i` a cualquier otro valor como se muestra en el siguiente ejemplo."
      ]
    },
    {
      "cell_type": "code",
      "execution_count": null,
      "metadata": {
        "id": "-YIpwkmFD6Ok"
      },
      "outputs": [],
      "source": [
        "i = 0\n",
        "while i<10:\n",
        "    print(\"Hello\")\n",
        "    print(i)\n",
        "    i = i + 3 # actualizamos el valor de i dependiendo de cuantas veces o como queremos que funcione el bucle while"
      ]
    },
    {
      "cell_type": "markdown",
      "metadata": {
        "id": "-u7ltAVHnt-R"
      },
      "source": [
        "Otro ejemplo final es iterar sobre los caracteres de una cadena."
      ]
    },
    {
      "cell_type": "code",
      "execution_count": null,
      "metadata": {
        "id": "boDQe79cD6Ok",
        "outputId": "fa5feddf-13d3-4499-a35d-e73949fe8498"
      },
      "outputs": [
        {
          "name": "stdout",
          "output_type": "stream",
          "text": [
            "I\n",
            "R\n",
            "O\n",
            "N\n",
            "H\n",
            "A\n",
            "C\n",
            "K\n"
          ]
        }
      ],
      "source": [
        "word = \"BOOTCAMP\"\n",
        "i = 0\n",
        "while i < len(word): # Aquí, la función `len()` devuelve cuántos elementos (letras o espacios en blanco) contiene la cadena.\n",
        "    print(word[i])\n",
        "    i=i+1"
      ]
    },
    {
      "cell_type": "markdown",
      "metadata": {
        "id": "jEWcToI2nt-S"
      },
      "source": [
        "También podemos hacer lo mismo usando un bucle for."
      ]
    },
    {
      "cell_type": "code",
      "execution_count": null,
      "metadata": {
        "id": "gqLILCo-nt-S"
      },
      "outputs": [],
      "source": [
        "word = \"BOOTCAMP\"\n",
        "for i in range(len(word)):\n",
        "    print(word[i])"
      ]
    }
  ],
  "metadata": {
    "colab": {
      "provenance": []
    },
    "interpreter": {
      "hash": "767d51c1340bd893661ea55ea3124f6de3c7a262a8b4abca0554b478b1e2ff90"
    },
    "kernelspec": {
      "display_name": "Python 2.7.16 64-bit",
      "name": "python3"
    },
    "language_info": {
      "codemirror_mode": {
        "name": "ipython",
        "version": 3
      },
      "file_extension": ".py",
      "mimetype": "text/x-python",
      "name": "python",
      "nbconvert_exporter": "python",
      "pygments_lexer": "ipython3",
      "version": "3.9.6"
    }
  },
  "nbformat": 4,
  "nbformat_minor": 0
}