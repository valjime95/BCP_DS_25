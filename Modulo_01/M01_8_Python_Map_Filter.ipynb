{
  "cells": [
    {
      "cell_type": "markdown",
      "metadata": {
        "id": "UgN1P4DMtR7V"
      },
      "source": [
        "# Map y  Filter\n",
        "\n",
        "\n",
        "**Introducción**\n",
        "\n",
        "El mapeo y el filtrado son conceptos importantes en la programación funcional. Estos conceptos aparecen en otros marcos de programación distribuida y también existen en Python. En esta lección, ampliaremos los conceptos de programación funcional que hemos aprendido en lecciones anteriores.\n",
        "\n",
        "\n",
        "**Resumen de la programación funcional**\n",
        "\n",
        "Como hemos aprendido en lecciones anteriores, la programación funcional es un paradigma de programación en el que el código se escribe de tal manera que evita la mutabilidad o el intercambio de estados. Las operaciones se realizan pasando datos a través de funciones y almacenando el resultado en una nueva variable.\n",
        "\n",
        "\n",
        "**Inmutabilidad**\n",
        "\n",
        "Un objeto inmutable es un objeto que no se puede cambiar después de su creación. Al ceñirnos a la programación funcional, nos aseguramos de que no haya dos procesos que modifiquen los mismos datos. En cambio, cuando cada función modifica los datos, almacenará los datos resultantes en una nueva variable. Esto da como resultado un código más limpio, seguro y fácil de leer.\n",
        "Transformación de estado\n",
        "\n",
        "Al escribir funcionalmente, podemos pensar en una función como un mapeo de entrada a salida. Un ejemplo de estado compartido es un juego de computadora en el que tenemos varios personajes moviéndose en la pantalla. Mover un personaje puede afectar a otro personaje, incluso de manera involuntaria. Con la programación funcional, esto no es una preocupación para nosotros.\n",
        "\n",
        "\n",
        "**Mapeo**\n",
        "\n",
        "El objetivo de usar la función `map()` es aplicar una función a una secuencia (como una lista o un conjunto). La función `map()` toma una función como argumento, así como una secuencia, y devuelve una secuencia con la función aplicada a cada elemento de la secuencia.\n",
        "\n",
        "Por ejemplo, creemos una función que divida un número por 2 y devuelva el resultado."
      ]
    },
    {
      "cell_type": "code",
      "execution_count": null,
      "metadata": {
        "id": "HM5zSvnVtR7Y"
      },
      "outputs": [],
      "source": [
        "def half(x):\n",
        "    return x / 2"
      ]
    },
    {
      "cell_type": "markdown",
      "metadata": {
        "id": "pO9J9U9ltR7Z"
      },
      "source": [
        "Ahora que tenemos nuestra función, apliquémosla a una lista de números."
      ]
    },
    {
      "cell_type": "code",
      "execution_count": null,
      "metadata": {
        "id": "630msChZtR7a",
        "outputId": "9393c3f7-4c11-406d-837b-d7a5fa10526d"
      },
      "outputs": [
        {
          "data": {
            "text/plain": [
              "<map at 0x7fcb1457a5f8>"
            ]
          },
          "execution_count": 2,
          "metadata": {},
          "output_type": "execute_result"
        }
      ],
      "source": [
        "l = [10, 12, 34, 23]\n",
        "map(half, l)"
      ]
    },
    {
      "cell_type": "markdown",
      "metadata": {
        "id": "7r5kHMhRtR7b"
      },
      "source": [
        "La función map() crea un objeto de mapa que es un objeto iterable. Para crear una nueva lista, una opción es convertir el objeto iterable en una lista."
      ]
    },
    {
      "cell_type": "code",
      "execution_count": null,
      "metadata": {
        "id": "_OmguvEttR7b",
        "outputId": "ef77fdd8-8e95-4d5e-daa7-58ff39d4baaa"
      },
      "outputs": [
        {
          "data": {
            "text/plain": [
              "[5.0, 6.0, 17.0, 11.5]"
            ]
          },
          "execution_count": 3,
          "metadata": {},
          "output_type": "execute_result"
        }
      ],
      "source": [
        "list(map(half, l))"
      ]
    },
    {
      "cell_type": "markdown",
      "metadata": {
        "id": "DYOl-_86tR7c"
      },
      "source": [
        "De manera similar, podemos convertir el iterable en un conjunto.\n",
        "\n",
        "# Filtrado\n",
        "\n",
        "Al igual que la función `map()`, la función `filter` toma una función y una secuencia y devuelve un iterable.\n",
        "\n",
        "El objetivo de esta función es utilizar la función que le pasamos para eliminar elementos de nuestra secuencia. Nuestra función debe devolver verdadero para todos los elementos que queremos conservar y falso para los que queremos eliminar.\n",
        "\n",
        "Por ejemplo, podemos crear una función que devuelva verdadero si un número es impar y falso si es par. De hecho, usemos una expresión lambda para esta tarea."
      ]
    },
    {
      "cell_type": "code",
      "execution_count": null,
      "metadata": {
        "id": "gCB05xqbtR7c",
        "outputId": "2903c109-d3a4-49b1-f328-3d442e34466b"
      },
      "outputs": [
        {
          "data": {
            "text/plain": [
              "<filter at 0x7fcb1457a588>"
            ]
          },
          "execution_count": 4,
          "metadata": {},
          "output_type": "execute_result"
        }
      ],
      "source": [
        "filter(lambda x: x % 2 == 1, l)"
      ]
    },
    {
      "cell_type": "markdown",
      "metadata": {
        "id": "vHz6HJG4tR7c"
      },
      "source": [
        "Nuevamente, esto devuelve un iterable, por lo que lo convertiremos en una lista."
      ]
    },
    {
      "cell_type": "code",
      "execution_count": null,
      "metadata": {
        "id": "OyXwIivItR7d",
        "outputId": "32353e76-646a-4003-f8be-9719e9c2a49d"
      },
      "outputs": [
        {
          "data": {
            "text/plain": [
              "[23]"
            ]
          },
          "execution_count": 5,
          "metadata": {},
          "output_type": "execute_result"
        }
      ],
      "source": [
        "list(filter(lambda x: x % 2 == 1, l))"
      ]
    }
  ],
  "metadata": {
    "kernelspec": {
      "display_name": "Python 3",
      "language": "python",
      "name": "python3"
    },
    "language_info": {
      "codemirror_mode": {
        "name": "ipython",
        "version": 3
      },
      "file_extension": ".py",
      "mimetype": "text/x-python",
      "name": "python",
      "nbconvert_exporter": "python",
      "pygments_lexer": "ipython3",
      "version": "3.7.2"
    },
    "colab": {
      "provenance": []
    }
  },
  "nbformat": 4,
  "nbformat_minor": 0
}