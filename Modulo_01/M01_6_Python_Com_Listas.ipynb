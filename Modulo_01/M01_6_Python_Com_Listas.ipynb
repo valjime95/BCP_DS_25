{
  "cells": [
    {
      "cell_type": "markdown",
      "metadata": {
        "id": "BLEUjR-jtKKS"
      },
      "source": [
        "# Comprensión de listas\n",
        "\n",
        "Objetivos de la lección\n",
        "\n",
        "Aprenda sobre el concepto de combinar almacenamiento con iteración.\n",
        "Aprenda cómo la comprensión de listas combina almacenamiento e iteración de manera eficiente.\n",
        "Aprenda cómo incorporar lógica condicional en las comprensiones de listas.\n",
        "Aprenda cómo construir comprensiones de listas con múltiples bucles for.\n",
        "Agregue lógica condicional a las comprensiones de listas de múltiples bucles.\n",
        "Aprenda algunos casos de uso para las comprensiones de listas.\n",
        "\n",
        "Introducción\n",
        "\n",
        "A medida que continúe mejorando sus habilidades de programación en Python, encontrará formas útiles de combinar algunos de los conceptos básicos que aprendió anteriormente en el programa. En esta lección, aprenderemos sobre las comprensiones de listas. Las comprensiones de listas combinan los conceptos de almacenamiento en estructuras de datos, iteración e incluso lógica condicional en una forma eficiente.\n",
        "Combinación de almacenamiento e iteración\n",
        "\n",
        "La idea principal detrás de las comprensiones de listas es el almacenamiento iterativo. En algunas de las lecciones anteriores, nos hemos encontrado con situaciones en las que tuvimos que crear una lista vacía e iterar a través de un bucle for añadiendo un valor a la lista al final de cada iteración."
      ]
    },
    {
      "cell_type": "code",
      "execution_count": null,
      "metadata": {
        "id": "eHtXHRT8tKKU",
        "outputId": "f2068f7d-c3bf-4fce-9791-43209664927b"
      },
      "outputs": [
        {
          "name": "stdout",
          "output_type": "stream",
          "text": [
            "[0, 1, 2, 3, 4, 5, 6, 7, 8, 9]\n"
          ]
        }
      ],
      "source": [
        "lst = []\n",
        "\n",
        "for i in range(10):\n",
        "    lst.append(i)\n",
        "\n",
        "print(lst)"
      ]
    },
    {
      "cell_type": "markdown",
      "metadata": {
        "id": "QuPWmvtBtKKV"
      },
      "source": [
        "En este ejemplo, creamos una lista vacía y, para cada número del rango, agregamos ese número a la lista a medida que lo encontramos.\n",
        "\n",
        "# Comprensiones de listas\n",
        "\n",
        "Una comprensión de listas es una forma de simplificar esa lógica en una sola línea de código Python. En lugar de crear una lista vacía y llenarla con el método append, los corchetes de la comprensión de listas hacen que los resultados devueltos se empaqueten en una lista. A continuación, se muestra cómo se ve el ejemplo anterior como una comprensión de listas."
      ]
    },
    {
      "cell_type": "code",
      "execution_count": null,
      "metadata": {
        "id": "AgGxdJdwtKKW",
        "outputId": "312dd78b-6182-45e8-a92e-b714d9660e39"
      },
      "outputs": [
        {
          "name": "stdout",
          "output_type": "stream",
          "text": [
            "[0, 1, 2, 3, 4, 5, 6, 7, 8, 9]\n"
          ]
        }
      ],
      "source": [
        "lst = [i for i in range(10)]\n",
        "print(lst)"
      ]
    },
    {
      "cell_type": "markdown",
      "metadata": {
        "id": "DoSmmxyStKKW"
      },
      "source": [
        "Como puede ver, obtenemos el mismo resultado con menos código, lo que generalmente es algo bueno. Dentro de los corchetes, solicitamos el valor de cada valor en ese rango.\n",
        "\n",
        "# Cómo agregar condiciones a las listas por comprensión\n",
        "\n",
        "También podemos incorporar declaraciones condicionales en nuestras listas por comprensión. Al agregar condiciones, deben colocarse después del bucle for apropiado para excluir los resultados que no satisfacen nuestra condición. El siguiente ejemplo devuelve todos los valores en un rango, pero solo si el valor es mayor o igual a 5."
      ]
    },
    {
      "cell_type": "code",
      "execution_count": null,
      "metadata": {
        "id": "_buAzgGLtKKW",
        "outputId": "16adcf97-d5db-4abb-ceb4-2a9617364b4c"
      },
      "outputs": [
        {
          "name": "stdout",
          "output_type": "stream",
          "text": [
            "[5, 6, 7, 8, 9, 10, 11, 12, 13, 14, 15, 16, 17, 18, 19]\n"
          ]
        }
      ],
      "source": [
        "lst = [i for i in range(20) if i >= 5]\n",
        "print(lst)"
      ]
    },
    {
      "cell_type": "markdown",
      "metadata": {
        "id": "ZLZF3rmxtKKX"
      },
      "source": [
        "# Múltiples bucles for en listas por comprensión\n",
        "\n",
        "A veces nos encontramos con situaciones más complejas en las que se requieren múltiples bucles. Por ejemplo, supongamos que tiene algunas listas anidadas cuyos valores desea descomprimir en una sola lista. Con listas regulares y bucles for, lo haríamos de la siguiente manera."
      ]
    },
    {
      "cell_type": "code",
      "execution_count": null,
      "metadata": {
        "id": "mCPpvgA9tKKX",
        "outputId": "6ced7652-27ce-4cca-fbf7-70690b86acad"
      },
      "outputs": [
        {
          "name": "stdout",
          "output_type": "stream",
          "text": [
            "[1, 2, 3, 4, 5, 6, 7, 8, 9]\n"
          ]
        }
      ],
      "source": [
        "lst_lst = [[1,2,3], [4,5,6], [7,8,9]]\n",
        "\n",
        "lst = []\n",
        "\n",
        "for x in lst_lst:\n",
        "    for y in x:\n",
        "        lst.append(y)\n",
        "\n",
        "print(lst)"
      ]
    },
    {
      "cell_type": "markdown",
      "metadata": {
        "id": "osjGkZkjtKKX"
      },
      "source": [
        "Las listas por comprensión también nos proporcionan una forma muy eficiente de manejar estos casos. Para construir una lista por comprensión con múltiples bucles for, solicitaríamos el resultado final que queremos seguido de la serie de bucles. Esto puede parecer un poco confuso porque estamos pidiendo de antemano el resultado que viene al final del último bucle, pero después de escribirlas durante un tiempo, verá que le ayuda a pensar en el resultado que desea y luego en cómo obtenerlo."
      ]
    },
    {
      "cell_type": "code",
      "execution_count": null,
      "metadata": {
        "id": "OK6YGqvOtKKY",
        "outputId": "7fd43469-11ea-48a6-9467-b248851a6da3"
      },
      "outputs": [
        {
          "name": "stdout",
          "output_type": "stream",
          "text": [
            "[1, 2, 3, 4, 5, 6, 7, 8, 9]\n"
          ]
        }
      ],
      "source": [
        "lst_lst = [[1,2,3], [4,5,6], [7,8,9]]\n",
        "\n",
        "lst = [y for x in lst_lst for y in x]\n",
        "print(lst)"
      ]
    },
    {
      "cell_type": "markdown",
      "metadata": {
        "id": "empOVer5tKKY"
      },
      "source": [
        "Tenga en cuenta que el orden de los bucles for dentro de las listas por comprensión es exactamente el mismo que el orden en que lo habría escrito con bucles for regulares. Tendrá la tentación de escribirlo al revés ([y for y in x for x in lst_lst]), pero eso no devolverá el resultado que queremos. Así que recuerde que el orden de los bucles for es el mismo dentro de una lista por comprensión que fuera de ella.\n",
        "\n",
        "# Cómo añadir condiciones a las listas por comprensión\n",
        "\n",
        "Las listas por comprensión pueden manejar bastante complejidad. Incluso podemos incorporar lógica condicional en las listas por comprensión. Por ejemplo, supongamos que tenemos una lista de listas como la del ejemplo siguiente y queremos extraer una lista de números pares que aparecen en listas anidadas de menos de 4 elementos de longitud. Podríamos lograr esto con una lista por comprensión que contenga dos bucles for y dos declaraciones condicionales como se muestra a continuación."
      ]
    },
    {
      "cell_type": "code",
      "execution_count": null,
      "metadata": {
        "id": "NHDUZk15tKKZ",
        "outputId": "bc4f359c-f3d2-4c46-dd28-d7b42a9a17f8"
      },
      "outputs": [
        {
          "name": "stdout",
          "output_type": "stream",
          "text": [
            "[6, 8, 10]\n"
          ]
        }
      ],
      "source": [
        "lst_lst = [[1,2,3,4,5], [6,7,8], [9,10]]\n",
        "\n",
        "lst = [y for x in lst_lst if len(x) < 4 for y in x if y % 2 == 0]\n",
        "print(lst)"
      ]
    },
    {
      "cell_type": "markdown",
      "metadata": {
        "id": "aWdfOz1ptKKZ"
      },
      "source": [
        "Tenga en cuenta que la condición para cada bucle for viene directamente después del bucle for al que se aplica. Esta capacidad de manejar lógica compleja con tanta eficiencia hace que las listas por comprensión sean una herramienta muy poderosa para tener en su arsenal.\n",
        "\n",
        "# Usos prácticos de las listas por comprensión\n",
        "\n",
        "Lectura de varios archivos\n",
        "\n",
        "Un caso de uso en el que las listas por comprensión resultan útiles es cuando los datos se dividen en varios archivos. Por ejemplo, supongamos que tenemos un directorio de datos que contiene varios archivos CSV (entre otros archivos), cada uno con la misma información (columnas) para grupos o divisiones separados. Podríamos usar una lista por comprensión con una condición endswith('.csv') en ella para obtener una lista de solo los archivos CSV en ese directorio. Podríamos usar otra lista por comprensión para que Pandas lea cada uno de esos archivos y luego el método pd.concat para combinarlos todos en un solo conjunto de datos que podemos analizar de la siguiente manera."
      ]
    },
    {
      "cell_type": "code",
      "execution_count": null,
      "metadata": {
        "id": "f3qo0zKstKKZ"
      },
      "outputs": [],
      "source": [
        "import os\n",
        "import pandas as pd\n",
        "\n",
        "file_list = [f for f in os.listdir('../data') if f.endswith('.csv')]\n",
        "data_sets = [pd.read_csv(os.path.join('../data', f)) for f in file_list]\n",
        "data = pd.concat(data_sets, axis=0)"
      ]
    },
    {
      "cell_type": "markdown",
      "source": [
        "**Nota**\n",
        "\n",
        "Si se quisiera aplicar un `for` con `if` y `else`\n",
        "\n",
        "```python\n",
        "[f(x) if condition else g(x) for x in sequence]\n",
        "```"
      ],
      "metadata": {
        "id": "JHTSLDer_dcD"
      }
    }
  ],
  "metadata": {
    "kernelspec": {
      "display_name": "Python 3",
      "language": "python",
      "name": "python3"
    },
    "language_info": {
      "codemirror_mode": {
        "name": "ipython",
        "version": 3
      },
      "file_extension": ".py",
      "mimetype": "text/x-python",
      "name": "python",
      "nbconvert_exporter": "python",
      "pygments_lexer": "ipython3",
      "version": "3.7.2"
    },
    "colab": {
      "provenance": []
    }
  },
  "nbformat": 4,
  "nbformat_minor": 0
}