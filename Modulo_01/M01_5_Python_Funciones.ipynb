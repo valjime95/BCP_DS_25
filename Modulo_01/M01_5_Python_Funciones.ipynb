{
  "cells": [
    {
      "cell_type": "markdown",
      "metadata": {
        "id": "rkkB60n9n_AO"
      },
      "source": [
        "### Definición de función\n",
        "\n",
        "Una función es un bloque de código organizado y reutilizable que se utiliza para realizar una única acción relacionada.\n",
        "\n",
        "Puede definir funciones para proporcionar la funcionalidad requerida. Aquí se presentan reglas simples para definir una función en Python.\n",
        "\n",
        "- El bloque de función comienza con la palabra clave `def` seguida del `nombre de la función` y los paréntesis `()`.\n",
        "- En algunos casos, verá que estos paréntesis están vacíos cuando define e invoca (ejecuta) la función, pero a veces tendrá que agregar parámetros dentro de ellos cuando defina la función. El valor que pasará entre estos paréntesis cuando invoque la función lo llamamos argumento.\n",
        "Aquí hay un [recurso adicional de W2Schools](https://www.w3schools.com/python/gloss_python_function_arguments.asp#:~:text=The%20terms%20parameter%20and%20argument,function%20when%20it%20is%20called.) que puede ayudarlo a comprender mejor esta terminología.\n",
        "- El bloque de código dentro de cada función comienza con dos puntos (:) y es obligatorio.\n",
        "- La primera declaración de una función puede ser una declaración opcional: la cadena de documentación de la función o docstring.\n",
        "- La declaración `return [expression]` sale de una función y, opcionalmente, devuelve una expresión al llamador. Una declaración de retorno sin argumentos es lo mismo que devolver None."
      ]
    },
    {
      "cell_type": "markdown",
      "source": [
        "### Variables globales y locales:\n",
        "1. **Variable local:** Declarada dentro de una función y solo accesible dentro de esta.\n"
      ],
      "metadata": {
        "id": "fAHuuQXK8Mi9"
      }
    },
    {
      "cell_type": "code",
      "source": [
        "def ejemplo():\n",
        "  local = 10\n",
        "  print(local)  # Salida: 10\n",
        "\n",
        "ejemplo()\n",
        "# print(local)  # Error: local no está definida fuera de la función"
      ],
      "metadata": {
        "id": "vc-sTWEf8r1c"
      },
      "execution_count": null,
      "outputs": []
    },
    {
      "cell_type": "markdown",
      "source": [
        "\n",
        "2. **Variable global:** Declarada fuera de cualquier función y accesible en todo el programa.\n"
      ],
      "metadata": {
        "id": "5od4PGks8sSL"
      }
    },
    {
      "cell_type": "code",
      "source": [
        "global_var = 5\n",
        "\n",
        "def usar_global():\n",
        "    print(global_var)\n",
        "\n",
        "usar_global()  # Salida: 5"
      ],
      "metadata": {
        "colab": {
          "base_uri": "https://localhost:8080/"
        },
        "id": "a0xIhXE9809F",
        "outputId": "567d7efd-cca4-4b03-840d-c133f230a784"
      },
      "execution_count": 1,
      "outputs": [
        {
          "output_type": "stream",
          "name": "stdout",
          "text": [
            "5\n"
          ]
        }
      ]
    },
    {
      "cell_type": "markdown",
      "source": [
        "3. **Modificar variables globales:**"
      ],
      "metadata": {
        "id": "21-ZVOU087xX"
      }
    },
    {
      "cell_type": "code",
      "source": [
        "contador = 0\n",
        "\n",
        "def incrementar():\n",
        "    global contador\n",
        "    contador += 1\n",
        "\n",
        "incrementar()\n",
        "print(contador)  # Salida: 1"
      ],
      "metadata": {
        "id": "yuGVYKe79FZF"
      },
      "execution_count": null,
      "outputs": []
    },
    {
      "cell_type": "code",
      "execution_count": null,
      "metadata": {
        "id": "gxz20Uetn_AT"
      },
      "outputs": [],
      "source": [
        "#Sintaxis\n",
        "\n",
        "def functionname( parameters ):\n",
        "   \"function_docstring\"\n",
        "   # codigo de la función identado\n",
        "   #return [expression]"
      ]
    },
    {
      "cell_type": "markdown",
      "metadata": {
        "id": "3_eUEzK6n_AV"
      },
      "source": [
        "Una función es un bloque de código que solo se ejecuta cuando se lo llama.\n",
        "\n",
        "Una función puede devolver datos como resultado."
      ]
    },
    {
      "cell_type": "code",
      "execution_count": null,
      "metadata": {
        "id": "MrXI8g4rn_AX"
      },
      "outputs": [],
      "source": [
        "#La función1 necesita un parámetro (\"x\") y va a multiplicar 5 * x\n",
        "\n",
        "def function1(x):\n",
        "    return 5 * x"
      ]
    },
    {
      "cell_type": "code",
      "execution_count": null,
      "metadata": {
        "id": "_AVSAZ_Vn_Ab"
      },
      "outputs": [],
      "source": [
        "#La variable \"a\" guardará el resultado de esta función\n",
        "# Esto es posible SÓLO porque la definición de la función contiene un RETORNO\n",
        "a = function1(2)"
      ]
    },
    {
      "cell_type": "code",
      "execution_count": null,
      "metadata": {
        "id": "esptAdvin_Ad",
        "outputId": "02626d54-3cee-4204-9901-4d05ad00ded2"
      },
      "outputs": [
        {
          "name": "stdout",
          "output_type": "stream",
          "text": [
            "10\n"
          ]
        }
      ],
      "source": [
        "#Utilice imprimir para ver el resultado (ejemplo = 5 * 2, 2 es el valor x)\n",
        "print(a)"
      ]
    },
    {
      "cell_type": "code",
      "execution_count": null,
      "metadata": {
        "id": "RqQIYDzxn_Ah"
      },
      "outputs": [],
      "source": [
        "b = function1(1)"
      ]
    },
    {
      "cell_type": "code",
      "execution_count": null,
      "metadata": {
        "id": "8c50f49bn_Ai",
        "outputId": "a5b337dd-83cf-44da-a1b6-58ba8b96e4e3"
      },
      "outputs": [
        {
          "name": "stdout",
          "output_type": "stream",
          "text": [
            "5\n"
          ]
        }
      ],
      "source": [
        "print(b)"
      ]
    },
    {
      "cell_type": "code",
      "execution_count": null,
      "metadata": {
        "id": "bIR937QXn_Aj",
        "outputId": "cf8b81ea-1fcf-4a03-a7a5-c4172e1c7599"
      },
      "outputs": [
        {
          "name": "stdout",
          "output_type": "stream",
          "text": [
            "15\n"
          ]
        }
      ],
      "source": [
        "print(a + b)"
      ]
    },
    {
      "cell_type": "code",
      "execution_count": null,
      "metadata": {
        "id": "NNZ2PR2Mn_Ak"
      },
      "outputs": [],
      "source": [
        "#También pueden ser dos variables o más en una función\n",
        "#El resultado es x + y\n",
        "def function2(x, y):\n",
        "    return x + y"
      ]
    },
    {
      "cell_type": "code",
      "execution_count": null,
      "metadata": {
        "id": "rUWIhNepn_Am",
        "outputId": "f7e72b84-d427-4f6d-e290-ce01c03279b7"
      },
      "outputs": [
        {
          "name": "stdout",
          "output_type": "stream",
          "text": [
            "5\n"
          ]
        }
      ],
      "source": [
        "#La variable c guarda el valor\n",
        "c = function2(2, 3)\n",
        "print(c)"
      ]
    },
    {
      "cell_type": "markdown",
      "metadata": {
        "id": "dzYr83Aan_An"
      },
      "source": [
        "# Exercise"
      ]
    },
    {
      "cell_type": "markdown",
      "metadata": {
        "id": "nOoIFTlfn_An"
      },
      "source": [
        "\n",
        "Create a function called \"generation_calculator\" to help determine the generation you belong to according to your birth year. Follow the below information:\n",
        "\n",
        "```\n",
        "+-----------------+---------------------+\n",
        "|  birth_year     |      generation     |\n",
        "+-----------------+---------------------+\n",
        "|     < 1949      |  silent generation  |\n",
        "+-----------------+---------------------+\n",
        "|     < 1969      |     baby boomer     |\n",
        "+-----------------+---------------------+\n",
        "|     < 1981      |     X generation    |\n",
        "+-----------------+---------------------+\n",
        "|     < 1994      |      millennial     |\n",
        "+-----------------+---------------------+\n",
        "|     > 1994      |    Z generation     |\n",
        "+-----------------+---------------------+\n",
        "```\n",
        "\n",
        "Let's add some \"fake\" users whose data we will be using to validate if the function gives us the correct and expected result."
      ]
    },
    {
      "cell_type": "code",
      "execution_count": null,
      "metadata": {
        "id": "b5c8YMwen_Ao"
      },
      "outputs": [],
      "source": [
        "# Generation What?\n",
        "\n",
        "name1 = \"Jonh\"\n",
        "birth_year1 = 1989\n",
        "\n",
        "name2 = \"Mari\"\n",
        "birth_year2 = 1995\n",
        "\n",
        "name3 = \"Mich\"\n",
        "birth_year3 = 1960"
      ]
    },
    {
      "cell_type": "markdown",
      "metadata": {
        "id": "2LOXY-ubn_Ao"
      },
      "source": [
        "1. Define the function generation calculator & add both parameters to represent both variables we are going to need in this function.\n",
        "2. Determine generation as a birth year (we need to know the year to be able to calculate)\n",
        "3. Print the results\n",
        "4. Write conditionals for each generation. For example, if you were born before 1949 you would be a \"silent generation\".\n",
        "5. Define variables for each result\n",
        "6. Show results"
      ]
    },
    {
      "cell_type": "code",
      "execution_count": null,
      "metadata": {
        "id": "w7A8j7R-n_Ap"
      },
      "outputs": [],
      "source": []
    },
    {
      "cell_type": "code",
      "execution_count": null,
      "metadata": {
        "id": "9U1kB_GKn_Aq"
      },
      "outputs": [],
      "source": [
        "# Your solution here"
      ]
    },
    {
      "cell_type": "markdown",
      "metadata": {
        "id": "hfLanFIan_Ar"
      },
      "source": [
        "### Additional resources"
      ]
    },
    {
      "cell_type": "markdown",
      "metadata": {
        "id": "4DLr-dyWn_As"
      },
      "source": [
        "- [https://www.tutorialspoint.com/python/python_functions.htm](https://www.tutorialspoint.com/python/python_functions.htm)"
      ]
    }
  ],
  "metadata": {
    "kernelspec": {
      "display_name": "Python 3",
      "language": "python",
      "name": "python3"
    },
    "language_info": {
      "codemirror_mode": {
        "name": "ipython",
        "version": 3
      },
      "file_extension": ".py",
      "mimetype": "text/x-python",
      "name": "python",
      "nbconvert_exporter": "python",
      "pygments_lexer": "ipython3",
      "version": "3.7.8"
    },
    "colab": {
      "provenance": []
    }
  },
  "nbformat": 4,
  "nbformat_minor": 0
}