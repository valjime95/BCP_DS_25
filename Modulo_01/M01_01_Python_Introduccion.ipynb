{
  "nbformat": 4,
  "nbformat_minor": 0,
  "metadata": {
    "colab": {
      "provenance": []
    },
    "kernelspec": {
      "name": "python3",
      "display_name": "Python 3"
    },
    "language_info": {
      "name": "python"
    }
  },
  "cells": [
    {
      "cell_type": "markdown",
      "source": [
        "## Variables: definición\n"
      ],
      "metadata": {
        "id": "AY41fOSBCEam"
      }
    },
    {
      "cell_type": "code",
      "source": [
        "x = 10\n",
        "y = 20.5\n",
        "z = 'hello'"
      ],
      "metadata": {
        "id": "QnjOZIcLCYF-"
      },
      "execution_count": null,
      "outputs": []
    },
    {
      "cell_type": "code",
      "source": [
        "print(x)"
      ],
      "metadata": {
        "id": "VhboC2enCfA9"
      },
      "execution_count": null,
      "outputs": []
    },
    {
      "cell_type": "code",
      "source": [
        "print(y)"
      ],
      "metadata": {
        "id": "R204jmC2Ckbz"
      },
      "execution_count": null,
      "outputs": []
    },
    {
      "cell_type": "code",
      "source": [
        "print(z)"
      ],
      "metadata": {
        "id": "oC9DVo7zCkeG"
      },
      "execution_count": null,
      "outputs": []
    },
    {
      "cell_type": "markdown",
      "source": [
        "Python es un lenguaje tipado dinámicamente. Eso significa que el intérprete infiere el tipo de un objeto en tiempo de ejecución. Los tipos de datos básicos son:\n",
        "- **Enteros**: almacena valores enteros positivos o negativos. En Python, el tipo de número entero puede ser arbitrariamente grande. _(por ejemplo, 10, 3, -5)_\n",
        "- **Float**: almacena números decimales. De forma predeterminada, Python interpreta cualquier número que incluya un punto decimal como un número de punto flotante de doble precisión. Al igual que otros lenguajes de programación, en Python no hay mucha diferencia entre float y double, excepto que float está integrado en Python, mientras que double se importa de una biblioteca llamada \"NumPy\". Hablaremos de las bibliotecas en detalle más adelante. _(por ejemplo, 20,2, 100,2403, -5,50)_\n",
        "- **Cadena**: almacena un grupo de caracteres encapsulados entre comillas simples o dobles _(p. ej. \"hola\", \"Ironhack\", \"Profesor\")_\n",
        "- **Booleano**: almacena True (verdadero) o False (falso)\n",
        "\n",
        "\n",
        "Como puede ver en el ejemplo anterior, `print` y `type` van seguidos de `()` y, por lo tanto, son funciones. Toman un argumento y devuelven otro valor."
      ],
      "metadata": {
        "id": "HPiefc8wCxxB"
      }
    },
    {
      "cell_type": "markdown",
      "source": [
        "**Float**"
      ],
      "metadata": {
        "id": "-rxJXsk4DFDy"
      }
    },
    {
      "cell_type": "code",
      "source": [
        "y = 20.5\n",
        "print(y)\n",
        "type(y)"
      ],
      "metadata": {
        "id": "VjcNY8GnDEyn"
      },
      "execution_count": null,
      "outputs": []
    },
    {
      "cell_type": "markdown",
      "source": [
        "**Cadena**\n",
        "La cadena se puede encapsular entre comillas simples o dobles."
      ],
      "metadata": {
        "id": "YG5x2FdGDLEs"
      }
    },
    {
      "cell_type": "code",
      "source": [
        "z = \"hello\"\n",
        "print(z)\n",
        "type(z)"
      ],
      "metadata": {
        "id": "m_d8cT63Ckgs"
      },
      "execution_count": null,
      "outputs": []
    },
    {
      "cell_type": "code",
      "source": [
        "x = 'hello there'\n",
        "print(x)\n",
        "type(x)"
      ],
      "metadata": {
        "id": "f-yS7Q1tCkiy"
      },
      "execution_count": null,
      "outputs": []
    },
    {
      "cell_type": "markdown",
      "source": [
        "**Nota:** Como puede ver en los ejemplos anteriores, puede definir una cadena usando `\" \"` doble o comillas simples`' '`. Quizás se pregunte cuándo debería utilizar comillas dobles y comillas simples. La respuesta corta es que depende de tu cadena. Si su cadena contiene comillas simples como \"No pude lograrlo\", entonces debe usar comillas dobles. De lo contrario, estarás seguro utilizando comillas simples.\n",
        "\n",
        "\n",
        "**Nota:** en los dos casos anteriores, la longitud de la cadena era pequeña (eran cadenas de una sola línea).\n",
        "¿Qué sucede si queremos una cadena que tenga más de una línea (cadena de varias líneas)?\n",
        "En tales casos, utilizamos tres comillas simples. Y cada nueva línea está representada por un carácter '/n' en la salida."
      ],
      "metadata": {
        "id": "bL42LcrPDUu0"
      }
    },
    {
      "cell_type": "code",
      "source": [
        "# Multiple line string\n",
        "x = '''Float - stores decimal numbers. By default, Python interprets any number that includes a decimal point as a double precision floating point number. Like some other programming languages, in Python there is not much difference between float and double except that float is in-built in Python, while double is imported from a library called NumPy.\n",
        "We will talk about the libraries in detail later.\n",
        "Hello\n",
        "There!'''\n",
        "print(x)\n",
        "type(x)"
      ],
      "metadata": {
        "id": "I4hE5UqwCkk8"
      },
      "execution_count": null,
      "outputs": []
    },
    {
      "cell_type": "markdown",
      "source": [
        "**Boolean**"
      ],
      "metadata": {
        "id": "v3nkh2cqDgrb"
      }
    },
    {
      "cell_type": "code",
      "source": [
        "x = True # this is highlighted in green because it is a key word\n",
        "print(x)\n",
        "type(x)"
      ],
      "metadata": {
        "id": "yESxjx_ECknP"
      },
      "execution_count": null,
      "outputs": []
    },
    {
      "cell_type": "code",
      "source": [
        "x = False\n",
        "print(x)\n",
        "type(x)"
      ],
      "metadata": {
        "id": "F3SosrVPDkCq"
      },
      "execution_count": null,
      "outputs": []
    },
    {
      "cell_type": "markdown",
      "source": [
        "## Ejercicio: tipos de datos\n",
        "\n",
        "Si al final del día cierras tu cuaderno de Jupyter, la próxima vez que lo abras, el contenido de cualquier variable del cuaderno se borrará (aunque las líneas de código que escribiste el día anterior estarán presentes si guardaste el cuaderno antes de cerrarlo).\n",
        "\n",
        "Por lo tanto, al día siguiente, no puedes simplemente seleccionar una celda en el medio del cuaderno y ejecutarla porque el contenido de todas las variables estará vacío y obtendrás un error. **Tendrás que ejecutar todas las celdas en orden de arriba a abajo para completar nuevamente todas tus variables.**"
      ],
      "metadata": {
        "id": "ei92l8CfEcID"
      }
    },
    {
      "cell_type": "markdown",
      "source": [
        "**1. Para las siguientes variables, use Python para verificar el tipo de datos de las variables.**"
      ],
      "metadata": {
        "id": "KsyDS040Elgj"
      }
    },
    {
      "cell_type": "code",
      "source": [
        "x1 = 1.1\n",
        "\n",
        "x2 = \"Valeria\"\n",
        "\n",
        "x3 = \"1.1\"\n",
        "\n",
        "x4 = True\n",
        "\n",
        "x5 = \"True\"\n",
        "\n",
        "x6 = -1"
      ],
      "metadata": {
        "id": "5TaCUziDEbuW"
      },
      "execution_count": null,
      "outputs": []
    },
    {
      "cell_type": "code",
      "source": [],
      "metadata": {
        "id": "bw97qTj1Ew6q"
      },
      "execution_count": null,
      "outputs": []
    },
    {
      "cell_type": "markdown",
      "source": [
        "**2. ¿Cuál es la diferencia entre `x1` y `x3`?**"
      ],
      "metadata": {
        "id": "PyKvT0S-EzPN"
      }
    },
    {
      "cell_type": "code",
      "source": [],
      "metadata": {
        "id": "EZ1jRU5WE0_-"
      },
      "execution_count": null,
      "outputs": []
    },
    {
      "cell_type": "markdown",
      "source": [
        "**3.Reste `x3` de `x1`**"
      ],
      "metadata": {
        "id": "plcRmh_XE53a"
      }
    },
    {
      "cell_type": "code",
      "source": [],
      "metadata": {
        "id": "9QlvMQtLE6YG"
      },
      "execution_count": null,
      "outputs": []
    },
    {
      "cell_type": "markdown",
      "source": [
        "**4. ¿Cuál es la diferencia entre `x4` y `x5`?**"
      ],
      "metadata": {
        "id": "XrOVCGIuE6xs"
      }
    },
    {
      "cell_type": "code",
      "source": [],
      "metadata": {
        "id": "LYBUvo4dFAtC"
      },
      "execution_count": null,
      "outputs": []
    },
    {
      "cell_type": "markdown",
      "source": [
        "**5.Reste `x4` de `x5`**"
      ],
      "metadata": {
        "id": "nN50V2kNFBdA"
      }
    },
    {
      "cell_type": "code",
      "source": [],
      "metadata": {
        "id": "ZRBsOXTBFFwX"
      },
      "execution_count": null,
      "outputs": []
    },
    {
      "cell_type": "markdown",
      "source": [
        "## Operadores\n",
        "\n",
        "Los operadores son símbolos especiales en Python que se utilizan para realizar determinadas operaciones, como operaciones matemáticas, operaciones lógicas y operaciones de comparación. El valor o las variables sobre las que trabaja el operador se denominan operandos.\n",
        "Veremos algunos de los operadores más comunes que usamos en Python."
      ],
      "metadata": {
        "id": "KKJFA38qFTTx"
      }
    },
    {
      "cell_type": "code",
      "source": [
        "# Definiremos dos variables aquí y usaremos operadores en ellas.\n",
        "\n",
        "x = 10\n",
        "y = 5"
      ],
      "metadata": {
        "id": "o_2sJDsIFSuY"
      },
      "execution_count": null,
      "outputs": []
    },
    {
      "cell_type": "markdown",
      "source": [
        "### Operadores aritméticos\n",
        "\n",
        "Se utilizan para realizar operaciones matemáticas como se muestra a continuación:\n",
        "\n",
        "Aquí, en el lado izquierdo, tenemos el operador y, en el lado derecho, podemos ver cómo se pueden utilizar con variables\n",
        "- `+` - Suma (x + y)\n",
        "- `-` - Resta (x - y)\n",
        "- `*` - Multiplicación (x * y)\n",
        "- `/` - División (x / y)\n",
        "- `%` - Módulo (x % y)\n",
        "- `**` - Exponenciación (x ** y)\n",
        "- `//` - División de base/piso (x // y)"
      ],
      "metadata": {
        "id": "a4ewoY-WQ16E"
      }
    },
    {
      "cell_type": "code",
      "source": [
        "# Puede probar estos operadores como se muestra a continuación"
      ],
      "metadata": {
        "id": "kUCmvrLHQqtf"
      },
      "execution_count": null,
      "outputs": []
    },
    {
      "cell_type": "code",
      "source": [
        "x+y"
      ],
      "metadata": {
        "id": "Oyg0LPVGQ9MF"
      },
      "execution_count": null,
      "outputs": []
    },
    {
      "cell_type": "code",
      "source": [
        "x-y"
      ],
      "metadata": {
        "id": "CLvSJCXxQ9Jf"
      },
      "execution_count": null,
      "outputs": []
    },
    {
      "cell_type": "code",
      "source": [
        "x*y"
      ],
      "metadata": {
        "id": "VCVPOOjSQ9G3"
      },
      "execution_count": null,
      "outputs": []
    },
    {
      "cell_type": "code",
      "source": [
        "x/y"
      ],
      "metadata": {
        "id": "bsiheZXcQ9EQ"
      },
      "execution_count": null,
      "outputs": []
    },
    {
      "cell_type": "code",
      "source": [
        "x%y # Da lo que resta de la división de x/y"
      ],
      "metadata": {
        "id": "IIiEp1G6Q8_G"
      },
      "execution_count": null,
      "outputs": []
    },
    {
      "cell_type": "code",
      "source": [
        "x**y"
      ],
      "metadata": {
        "id": "GxtQAgd9Q87_"
      },
      "execution_count": null,
      "outputs": []
    },
    {
      "cell_type": "code",
      "source": [
        "x//y # Redondea el resultado al valor entero más bajo en la línea numérica."
      ],
      "metadata": {
        "id": "GcSr85e9RFjx"
      },
      "execution_count": null,
      "outputs": []
    },
    {
      "cell_type": "markdown",
      "source": [
        "Python también tiene una biblioteca \"math\" que puedes usar para realizar algunas operaciones matemáticas más complejas.\n",
        "Las bibliotecas en Python contienen algunas funciones predefinidas adicionales que el usuario puede ejecutar directamente.\n",
        "Hablaremos sobre las bibliotecas con más detalle más adelante.\n",
        "\n",
        "Aquí mostraremos cómo usar la [biblioteca matemática](https://docs.python.org/3/library/math.html) para algunas operaciones que hemos visto antes."
      ],
      "metadata": {
        "id": "H12mtEnrReDv"
      }
    },
    {
      "cell_type": "code",
      "source": [
        "import math # Esta es la forma de tener acceso a todas las funciones incluidas en la biblioteca `math`\n",
        "math.floor(2.9) # Este es el mismo operador de 'división de piso' que usamos anteriormente"
      ],
      "metadata": {
        "id": "5woFNED0RFhM"
      },
      "execution_count": null,
      "outputs": []
    },
    {
      "cell_type": "code",
      "source": [
        "# Este es el mismo operador de 'Exponenciación' que usamos antes.\n",
        "# En este caso, la función toma dos argumentos separados por ','. El primero es la base,\n",
        "# y el segundo es la potencia. En el ejemplo que se muestra a continuación, calculamos: 2**3\n",
        "math.pow(2,3)"
      ],
      "metadata": {
        "id": "hW2LCSugRFbt"
      },
      "execution_count": null,
      "outputs": []
    },
    {
      "cell_type": "code",
      "source": [
        "math.sqrt(9) #Esto devuelve la raíz cuadrada"
      ],
      "metadata": {
        "id": "SgOhBmPcRFYd"
      },
      "execution_count": null,
      "outputs": []
    },
    {
      "cell_type": "markdown",
      "source": [
        "### Operadores de asignación\n",
        "\n",
        "Se utilizan para asignar valores a las variables. Ya lo hemos visto antes cuando hablamos de \"Variables\" y \"Tipos de datos\"."
      ],
      "metadata": {
        "id": "vF5kQSW8SakH"
      }
    },
    {
      "cell_type": "code",
      "source": [
        "x = 10\n",
        "print(x)"
      ],
      "metadata": {
        "id": "Jzx5JIdyRFU4"
      },
      "execution_count": null,
      "outputs": []
    },
    {
      "cell_type": "markdown",
      "source": [
        "Algunos operadores de asignación especiales asignan el valor y realizan una operación matemática simple al mismo tiempo. Se muestran a continuación:"
      ],
      "metadata": {
        "id": "UZkSr0JhSc_Y"
      }
    },
    {
      "cell_type": "code",
      "source": [
        "x = 10\n",
        "x+=3\n",
        "print(x)"
      ],
      "metadata": {
        "id": "m6DhiOHcSdbu"
      },
      "execution_count": null,
      "outputs": []
    },
    {
      "cell_type": "code",
      "source": [
        "x = 10\n",
        "x-=3\n",
        "print(x)"
      ],
      "metadata": {
        "id": "IER1craHSePj"
      },
      "execution_count": null,
      "outputs": []
    },
    {
      "cell_type": "code",
      "source": [
        "x = 10\n",
        "x*=3\n",
        "print(x)"
      ],
      "metadata": {
        "id": "FyjMXLJSSeMh"
      },
      "execution_count": null,
      "outputs": []
    },
    {
      "cell_type": "code",
      "source": [
        "x = 10\n",
        "x/=3\n",
        "print(x)"
      ],
      "metadata": {
        "id": "1oG-N-dmSeJx"
      },
      "execution_count": null,
      "outputs": []
    },
    {
      "cell_type": "code",
      "source": [
        "x = 10\n",
        "x%=3\n",
        "print(x)"
      ],
      "metadata": {
        "id": "iYuzBdw9SeG8"
      },
      "execution_count": null,
      "outputs": []
    },
    {
      "cell_type": "markdown",
      "source": [
        "### Operadores de comparación\n",
        "\n",
        "\n",
        "Son para hacer una comparación entre dos variables. Devuelven un valor booleano, ya sea `True` (Verdadero) o `False` (Falso).\n",
        "Devuelve `True`  si se cumple la condición; de lo contrario, devuelve `False`."
      ],
      "metadata": {
        "id": "gIaeKlzcS5U_"
      }
    },
    {
      "cell_type": "code",
      "source": [
        "x = 10  # Initialize variable `x` with a value 10\n",
        "y = 5   # Initialize variable `y` with a value 5"
      ],
      "metadata": {
        "id": "HIfknDL0SeBG"
      },
      "execution_count": null,
      "outputs": []
    },
    {
      "cell_type": "markdown",
      "source": [
        "# definicion de variables\n",
        "x = y"
      ],
      "metadata": {
        "id": "xhJvHwqBtkry"
      }
    },
    {
      "cell_type": "code",
      "source": [
        "# comparacion\n",
        "\n",
        "x == y\n",
        "#y = 10\n",
        "\n",
        "print(x==y)"
      ],
      "metadata": {
        "id": "y0_RclbzSdyU",
        "colab": {
          "base_uri": "https://localhost:8080/"
        },
        "outputId": "2a75907e-0aff-4aed-9a33-c664056b4a3d"
      },
      "execution_count": null,
      "outputs": [
        {
          "output_type": "stream",
          "name": "stdout",
          "text": [
            "False\n"
          ]
        }
      ]
    },
    {
      "cell_type": "code",
      "source": [
        "# x es distinto de y\n",
        "x != y"
      ],
      "metadata": {
        "id": "TLt0S33sTM8A",
        "colab": {
          "base_uri": "https://localhost:8080/"
        },
        "outputId": "d285868d-253e-4aab-9afb-0982458e041a"
      },
      "execution_count": null,
      "outputs": [
        {
          "output_type": "execute_result",
          "data": {
            "text/plain": [
              "True"
            ]
          },
          "metadata": {},
          "execution_count": 8
        }
      ]
    },
    {
      "cell_type": "code",
      "source": [
        "x > y"
      ],
      "metadata": {
        "id": "-u-czewXTM48",
        "colab": {
          "base_uri": "https://localhost:8080/"
        },
        "outputId": "58693168-4f7b-489f-b9ad-5926c8a7ff77"
      },
      "execution_count": null,
      "outputs": [
        {
          "output_type": "execute_result",
          "data": {
            "text/plain": [
              "True"
            ]
          },
          "metadata": {},
          "execution_count": 9
        }
      ]
    },
    {
      "cell_type": "code",
      "source": [
        "x >= y\n",
        "\n",
        "# <="
      ],
      "metadata": {
        "id": "T305JoYwTM2G",
        "colab": {
          "base_uri": "https://localhost:8080/"
        },
        "outputId": "61e1ae64-5c28-493b-90b7-4f0dae04c71c"
      },
      "execution_count": null,
      "outputs": [
        {
          "output_type": "execute_result",
          "data": {
            "text/plain": [
              "True"
            ]
          },
          "metadata": {},
          "execution_count": 11
        }
      ]
    },
    {
      "cell_type": "code",
      "source": [
        "x < y"
      ],
      "metadata": {
        "id": "c22y0CwWTMzM",
        "colab": {
          "base_uri": "https://localhost:8080/"
        },
        "outputId": "6a9caaaf-b826-4c2f-aa1b-7dc3b3de952f"
      },
      "execution_count": null,
      "outputs": [
        {
          "output_type": "execute_result",
          "data": {
            "text/plain": [
              "False"
            ]
          },
          "metadata": {},
          "execution_count": 12
        }
      ]
    },
    {
      "cell_type": "code",
      "source": [
        "x <= y"
      ],
      "metadata": {
        "id": "lqUODyHWTMv0",
        "colab": {
          "base_uri": "https://localhost:8080/"
        },
        "outputId": "64d73679-7e05-48f4-f5e7-ad50673189c7"
      },
      "execution_count": null,
      "outputs": [
        {
          "output_type": "execute_result",
          "data": {
            "text/plain": [
              "False"
            ]
          },
          "metadata": {},
          "execution_count": 13
        }
      ]
    },
    {
      "cell_type": "markdown",
      "source": [
        "### Operadores lógicos\n",
        "Estos operadores se utilizan para combinar dos o más operaciones de comparación.\n",
        "Devuelve True si se cumplen todas las condiciones.\n",
        "Devuelve False si no se cumple alguna de las múltiples condiciones."
      ],
      "metadata": {
        "id": "kZXSKeM9Tasm"
      }
    },
    {
      "cell_type": "code",
      "source": [
        "x = 10 # Primero inicializaremos la variable `x` con un valor 10."
      ],
      "metadata": {
        "id": "bcqYbnfQTMpq"
      },
      "execution_count": null,
      "outputs": []
    },
    {
      "cell_type": "code",
      "source": [
        "print(x)"
      ],
      "metadata": {
        "colab": {
          "base_uri": "https://localhost:8080/"
        },
        "id": "gP5PjBm_xTCO",
        "outputId": "85bb8dc2-1ac7-429a-a0f2-057826e735a5"
      },
      "execution_count": null,
      "outputs": [
        {
          "output_type": "stream",
          "name": "stdout",
          "text": [
            "10\n"
          ]
        }
      ]
    },
    {
      "cell_type": "code",
      "source": [
        "print(y)"
      ],
      "metadata": {
        "colab": {
          "base_uri": "https://localhost:8080/"
        },
        "id": "7F6HjJB7xUbL",
        "outputId": "ece398c3-b68c-465e-f200-e62683c10ecb"
      },
      "execution_count": null,
      "outputs": [
        {
          "output_type": "stream",
          "name": "stdout",
          "text": [
            "3\n"
          ]
        }
      ]
    },
    {
      "cell_type": "markdown",
      "source": [
        "**and**"
      ],
      "metadata": {
        "id": "uvs_GIoBTkQb"
      }
    },
    {
      "cell_type": "code",
      "source": [
        "x < 5 and x < 10 #"
      ],
      "metadata": {
        "id": "L3weI1fXTj67",
        "colab": {
          "base_uri": "https://localhost:8080/"
        },
        "outputId": "bb77421b-18b6-4c2a-f4e7-d5ae6387aaad"
      },
      "execution_count": null,
      "outputs": [
        {
          "output_type": "execute_result",
          "data": {
            "text/plain": [
              "False"
            ]
          },
          "metadata": {},
          "execution_count": 20
        }
      ]
    },
    {
      "cell_type": "code",
      "source": [
        "x > 5 and x < 20"
      ],
      "metadata": {
        "id": "_uF4jbh4TMfY",
        "colab": {
          "base_uri": "https://localhost:8080/"
        },
        "outputId": "7b651c94-de2f-4f62-a24c-e5e7cfa20839"
      },
      "execution_count": null,
      "outputs": [
        {
          "output_type": "execute_result",
          "data": {
            "text/plain": [
              "True"
            ]
          },
          "metadata": {},
          "execution_count": 23
        }
      ]
    },
    {
      "cell_type": "markdown",
      "source": [
        "**or**"
      ],
      "metadata": {
        "id": "9rB070dvTokW"
      }
    },
    {
      "cell_type": "code",
      "source": [
        "(x == 10) or (x > 12)"
      ],
      "metadata": {
        "id": "Vw73ry8FTrXO",
        "colab": {
          "base_uri": "https://localhost:8080/"
        },
        "outputId": "50e91dc3-5ec4-4751-887c-cef91eff2a9e"
      },
      "execution_count": null,
      "outputs": [
        {
          "output_type": "execute_result",
          "data": {
            "text/plain": [
              "True"
            ]
          },
          "metadata": {},
          "execution_count": 24
        }
      ]
    },
    {
      "cell_type": "code",
      "source": [
        "(x < 5) or (x > 12)"
      ],
      "metadata": {
        "id": "5-SdfdGwTq41",
        "colab": {
          "base_uri": "https://localhost:8080/"
        },
        "outputId": "d1b8f137-a692-440a-83ad-a37571f914c7"
      },
      "execution_count": null,
      "outputs": [
        {
          "output_type": "execute_result",
          "data": {
            "text/plain": [
              "False"
            ]
          },
          "metadata": {},
          "execution_count": 25
        }
      ]
    },
    {
      "cell_type": "code",
      "source": [
        "(x < 5) or (x < 12)"
      ],
      "metadata": {
        "colab": {
          "base_uri": "https://localhost:8080/"
        },
        "id": "gdNHOTCiySTA",
        "outputId": "d223a3bf-101f-447b-df8c-9a74f477895f"
      },
      "execution_count": null,
      "outputs": [
        {
          "output_type": "execute_result",
          "data": {
            "text/plain": [
              "True"
            ]
          },
          "metadata": {},
          "execution_count": 26
        }
      ]
    },
    {
      "cell_type": "markdown",
      "source": [
        "**not**"
      ],
      "metadata": {
        "id": "aZ0AupVqTqAc"
      }
    },
    {
      "cell_type": "code",
      "source": [
        "not( (x < 5) or (x > 12) )\n",
        "\n",
        "# x = 10\n",
        "\n",
        "# (x < 5) --> False\n",
        "# (x > 12) ---> False\n",
        "\n",
        "# not( (x < 5) or (x > 12) ) = not (False or False)"
      ],
      "metadata": {
        "id": "DGjBjm25Twk4",
        "colab": {
          "base_uri": "https://localhost:8080/"
        },
        "outputId": "34fceec9-f01d-43cc-dd78-f45ad27bf88b"
      },
      "execution_count": null,
      "outputs": [
        {
          "output_type": "execute_result",
          "data": {
            "text/plain": [
              "True"
            ]
          },
          "metadata": {},
          "execution_count": 31
        }
      ]
    },
    {
      "cell_type": "code",
      "source": [
        "(x < 5)"
      ],
      "metadata": {
        "colab": {
          "base_uri": "https://localhost:8080/"
        },
        "id": "yiKUJvf0y4d9",
        "outputId": "994bbdb2-5906-413f-cd63-79ec4092a902"
      },
      "execution_count": null,
      "outputs": [
        {
          "output_type": "execute_result",
          "data": {
            "text/plain": [
              "False"
            ]
          },
          "metadata": {},
          "execution_count": 27
        }
      ]
    },
    {
      "cell_type": "code",
      "source": [
        "(x > 12)"
      ],
      "metadata": {
        "colab": {
          "base_uri": "https://localhost:8080/"
        },
        "id": "bVnOKF0Jy7mk",
        "outputId": "0d000e4b-7876-4fb4-c064-b7d5788ca00f"
      },
      "execution_count": null,
      "outputs": [
        {
          "output_type": "execute_result",
          "data": {
            "text/plain": [
              "False"
            ]
          },
          "metadata": {},
          "execution_count": 28
        }
      ]
    },
    {
      "cell_type": "code",
      "source": [
        "(x < 5) or (x > 12)"
      ],
      "metadata": {
        "colab": {
          "base_uri": "https://localhost:8080/"
        },
        "id": "h9SDmoPQzEEw",
        "outputId": "aed8f787-3d94-45c8-ef2e-9c70a4c80ce5"
      },
      "execution_count": null,
      "outputs": [
        {
          "output_type": "execute_result",
          "data": {
            "text/plain": [
              "False"
            ]
          },
          "metadata": {},
          "execution_count": 29
        }
      ]
    },
    {
      "cell_type": "code",
      "source": [
        "False or False"
      ],
      "metadata": {
        "colab": {
          "base_uri": "https://localhost:8080/"
        },
        "id": "77TvQC6FzIXs",
        "outputId": "584f7ee8-394a-41d7-d079-531995a15de1"
      },
      "execution_count": null,
      "outputs": [
        {
          "output_type": "execute_result",
          "data": {
            "text/plain": [
              "False"
            ]
          },
          "metadata": {},
          "execution_count": 30
        }
      ]
    },
    {
      "cell_type": "code",
      "source": [
        "not(False)"
      ],
      "metadata": {
        "colab": {
          "base_uri": "https://localhost:8080/"
        },
        "id": "gmp4kuTkzQxr",
        "outputId": "ee071231-383b-4510-8381-15d724893bb6"
      },
      "execution_count": null,
      "outputs": [
        {
          "output_type": "execute_result",
          "data": {
            "text/plain": [
              "True"
            ]
          },
          "metadata": {},
          "execution_count": 32
        }
      ]
    },
    {
      "cell_type": "code",
      "source": [
        "not(False or False)"
      ],
      "metadata": {
        "colab": {
          "base_uri": "https://localhost:8080/"
        },
        "id": "CIIQjDDkzSo-",
        "outputId": "c937e901-48c1-4fe6-9a92-962f87ace364"
      },
      "execution_count": null,
      "outputs": [
        {
          "output_type": "execute_result",
          "data": {
            "text/plain": [
              "True"
            ]
          },
          "metadata": {},
          "execution_count": 33
        }
      ]
    },
    {
      "cell_type": "code",
      "source": [
        "not(x == 10 or x > 12)"
      ],
      "metadata": {
        "id": "Jl1JpUyITyTG",
        "colab": {
          "base_uri": "https://localhost:8080/"
        },
        "outputId": "2b27df52-f6f5-4ab1-ecfa-a147e8fe100c"
      },
      "execution_count": null,
      "outputs": [
        {
          "output_type": "execute_result",
          "data": {
            "text/plain": [
              "False"
            ]
          },
          "metadata": {},
          "execution_count": 34
        }
      ]
    },
    {
      "cell_type": "code",
      "source": [
        "genero = \"Masculino\"\n",
        "\n",
        "\n",
        "if genero == \"masculino\": # SI ESTO SE CUMPLE. --> genero == \"masculino\" --> True\n",
        "  print(\"VERDADERO\") # EJECUTA ESTO"
      ],
      "metadata": {
        "id": "1wTLTyIJzmK9"
      },
      "execution_count": null,
      "outputs": []
    },
    {
      "cell_type": "markdown",
      "source": [
        "## Más recursos:\n",
        "\n",
        "https://www.programiz.com/python-programming/operators\n",
        "\n",
        "\n",
        "https://www.tutorialspoint.com/python/python_operators.htm"
      ],
      "metadata": {
        "id": "7xPf7LooT55b"
      }
    },
    {
      "cell_type": "markdown",
      "source": [
        "### Ejercicio - Operadores\n",
        "\n",
        "En este problema le mostraremos cómo tomar una entrada del usuario. Para obtener la entrada del usuario, podemos utilizar la función input(message), donde “message” es un mensaje significativo de tipo str y se mostrará al usuario.\n",
        "Utilice el código y luego responda las preguntas que aparecen a continuación:"
      ],
      "metadata": {
        "id": "BUAEui1dUQHc"
      }
    },
    {
      "cell_type": "markdown",
      "source": [
        "**NOTA**\n",
        "\n",
        "Cada función input() se ejecutará de forma secuencial. Cada una de ellas mostrará un cuadro de celda esperando que ingreses un valor y presiones intro para confirmar. Puedes comprobarlo porque a la izquierda de la celda de entrada verás un símbolo de estrella como se muestra aquí que te indica que la computadora está esperando que ingreses un valor. Después de ingresar un valor, el símbolo de estrella desaparecerá y se ejecutará la siguiente función input() mostrando nuevamente un cuadro de celda junto con un símbolo de estrella esperando que ingreses un nuevo valor. Es importante tener en cuenta que cuando una celda de código tiene un símbolo de estrella, no se te permitirá ejecutar ninguna otra celda hasta que el símbolo de estrella desaparezca."
      ],
      "metadata": {
        "id": "EQJD1TtbVH79"
      }
    },
    {
      "cell_type": "code",
      "source": [
        "x1 = input(\"Por favor ingrese un número entero: \")\n",
        "x2 = input(\"Por favor ingrese otro número entero: \")"
      ],
      "metadata": {
        "colab": {
          "base_uri": "https://localhost:8080/"
        },
        "id": "AiVFKAD8U4ou",
        "outputId": "1e8ab133-80bf-43b8-88e4-70663e39b8a4"
      },
      "execution_count": null,
      "outputs": [
        {
          "name": "stdout",
          "output_type": "stream",
          "text": [
            "Por favor ingrese un número entero: 20\n",
            "Por favor ingrese otro número entero: 10\n"
          ]
        }
      ]
    },
    {
      "cell_type": "markdown",
      "source": [
        "Pregunta 1: ¿Imprimir los valores de las dos variables?"
      ],
      "metadata": {
        "id": "w4Ba6OTRU-za"
      }
    },
    {
      "cell_type": "code",
      "source": [],
      "metadata": {
        "id": "xwa5sNV4argc"
      },
      "execution_count": null,
      "outputs": []
    },
    {
      "cell_type": "markdown",
      "source": [
        "Como habrás notado, el tipo de datos de x1 y x2 es cadena. Aunque ingresamos números enteros, la función de entrada los convierte en cadenas de manera predeterminada."
      ],
      "metadata": {
        "id": "JXCd82Q-a36Q"
      }
    },
    {
      "cell_type": "markdown",
      "source": [
        "Pregunta 2: ¿Cuál es el tipo de datos de x1 y x2?\n",
        "\n",
        "Ahora realice comparaciones simples entre x1 y x2:\n",
        "\n",
        "¿Verifique si las dos variables son iguales?\n",
        "\n",
        "¿Verifique si x1 es mayor que x2?\n",
        "\n",
        "¿Verifique si x2 es mayor que x1?\n",
        "\n",
        "¿Verifique si x1 no es igual a x2?\n",
        "\n",
        "\n",
        "Almacene la diferencia entre las dos variables x1 y x2 en otra variable x3 (reste el número menor del número mayor).\n",
        "\n",
        "\n",
        "Incremente la menor de las dos variables (x1 y x2) con la diferencia. Use el operador de suma abreviado para lo mismo. Verifique nuevamente si x1 y x2 son iguales o no."
      ],
      "metadata": {
        "id": "dodnialjaph0"
      }
    },
    {
      "cell_type": "code",
      "source": [],
      "metadata": {
        "id": "5HNdgMUzapJr"
      },
      "execution_count": null,
      "outputs": []
    }
  ]
}